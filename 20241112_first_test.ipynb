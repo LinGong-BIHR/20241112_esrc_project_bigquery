{
 "cells": [
  {
   "cell_type": "code",
   "execution_count": null,
   "id": "2c65d75f-cac6-4610-aeb5-dbeebf51dce5",
   "metadata": {},
   "outputs": [],
   "source": [
    "test to check"
   ]
  },
  {
   "cell_type": "code",
   "execution_count": null,
   "id": "776389b3-f3ff-41e1-a7d5-91e4d5b7111a",
   "metadata": {},
   "outputs": [],
   "source": [
    "added changes as a test"
   ]
  }
 ],
 "metadata": {
  "environment": {
   "kernel": "ir",
   "name": "r-cpu.m125",
   "type": "gcloud",
   "uri": "us-docker.pkg.dev/deeplearning-platform-release/gcr.io/r-cpu:m125"
  },
  "kernelspec": {
   "display_name": "R (Local)",
   "language": "R",
   "name": "ir"
  },
  "language_info": {
   "codemirror_mode": "r",
   "file_extension": ".r",
   "mimetype": "text/x-r-source",
   "name": "R",
   "pygments_lexer": "r",
   "version": "4.4.1"
  }
 },
 "nbformat": 4,
 "nbformat_minor": 5
}
