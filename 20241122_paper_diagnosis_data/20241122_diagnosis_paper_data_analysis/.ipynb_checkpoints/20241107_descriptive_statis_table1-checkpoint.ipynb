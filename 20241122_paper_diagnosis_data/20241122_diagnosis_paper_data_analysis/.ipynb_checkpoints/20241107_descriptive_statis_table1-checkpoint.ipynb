{
 "cells": [
  {
   "cell_type": "markdown",
   "id": "2a6676e1-5bea-45bb-9043-1c8160a941af",
   "metadata": {
    "tags": []
   },
   "source": [
    "### 20241111_ESRC_Project_Data_Analysis_Code_Table1"
   ]
  },
  {
   "cell_type": "markdown",
   "id": "e530bc48-bbe3-46a6-8a23-16adb0458aae",
   "metadata": {
    "tags": []
   },
   "source": [
    "#### Codes"
   ]
  },
  {
   "cell_type": "code",
   "execution_count": null,
   "id": "a17c2d4b-204d-41d7-8c9c-fe5c5f54a167",
   "metadata": {
    "tags": []
   },
   "outputs": [],
   "source": [
    "#creat the numbers for table 1\n",
    "#female numbers\n",
    "\n",
    "SELECT \n",
    "    ethnicity_variable_label_8levels, \n",
    "    ethnicity_variable_value_8levels, \n",
    "    COUNT(DISTINCT person_id) AS distinct_person_count\n",
    "FROM \n",
    "    `yhcr-prd-bradfor-bia-core.CB_1322.A_Lin_1105_cohort_imd_ethnicty_imputed`\n",
    "WHERE \n",
    "    age BETWEEN 45 AND 64\n",
    "GROUP BY \n",
    "    ethnicity_variable_label_8levels, \n",
    "    ethnicity_variable_value_8levels;\n",
    "\n",
    "SELECT \n",
    "    ethnicity_variable_label_8levels, \n",
    "    ethnicity_variable_value_8levels, \n",
    "    COUNT(DISTINCT person_id) AS distinct_person_count\n",
    "FROM \n",
    "    `yhcr-prd-bradfor-bia-core.CB_1322.A_Lin_1105_cohort_imd_ethnicty_imputed`\n",
    "WHERE \n",
    "    age BETWEEN 65 AND 84\n",
    "GROUP BY \n",
    "    ethnicity_variable_label_8levels, \n",
    "    ethnicity_variable_value_8levels;\n",
    "SELECT count (distinct person_id) FROM `yhcr-prd-bradfor-bia-core.CB_1322.A_Lin_1105_cohort_imd_ethnicty_imputed` \n",
    "\n",
    "SELECT \n",
    "    ethnicity_variable_label_8levels, \n",
    "    ethnicity_variable_value_8levels, \n",
    "    COUNT(DISTINCT person_id) AS distinct_person_count\n",
    "FROM \n",
    "    `yhcr-prd-bradfor-bia-core.CB_1322.A_Lin_1105_cohort_imd_ethnicty_imputed`\n",
    "WHERE \n",
    "    age >= 85\n",
    "GROUP BY \n",
    "    ethnicity_variable_label_8levels, \n",
    "    ethnicity_variable_value_8levels;\n",
    "\n",
    "\n",
    "#use notebook to get the averagfe age and sd\n",
    "df %>%\n",
    "  group_by(ethnicity_variable_label_8levels) %>%\n",
    "  summarise(age = mean(age), sd = sd(df$age, na.rm=TRUE))\n",
    "\n",
    "SELECT AVG(age) AS average_age, ethnicity_variable_label_8levels, ethnicity_variable_value_8levels\n",
    "FROM `yhcr-prd-bradfor-bia-core.CB_1322.A_Lin_1105_cohort_imd_ethnicty_imputed`\n",
    "GROUP BY ethnicity_variable_label_8levels, ethnicity_variable_value_8levels;\n",
    "\n",
    "SELECT ethnicity_variable_label_8levels, COUNT(DISTINCT person_id) \n",
    "FROM `yhcr-prd-bradfor-bia-core.CB_1322.A_Lin_1105_cohort_imd_ethnicty_imputed \n",
    "WHERE gender_variable_label = 'Female' \n",
    "GROUP BY ethnicity_variable_label_8levels\n",
    "\n",
    "#deprivation numbers \n",
    "SELECT ethnicity_variable_value_8levels, count (distinct person_id) FROM `yhcr-prd-bradfor-bia-core.CB_1322.A_Lin_1105_cohort_imd_ethnicty_imputed` \n",
    "WHERE imd = 1 OR imd = 2\n",
    "GROUP BY ethnicity_variable_value_8levels\n",
    "\n",
    "SELECT  count (distinct person_id) FROM `yhcr-prd-bradfor-bia-core.CB_1322.A_Lin_1105_cohort_imd_ethnicty_imputed` \n",
    "WHERE imd = 1 OR imd = 2\n",
    "\n",
    "# pause for later continue--------------------------------------------\n",
    "SELECT ethnicity_variable_value_8levels, count (distinct person_id) FROM `yhcr-prd-bradfor-bia-core.CB_1322.A_Lin_1105_cohort_imd_ethnicty_imputed` \n",
    "WHERE imd = 3 OR imd = 4\n",
    "GROUP BY ethnicity_variable_value_8levels\n",
    "\n",
    "SELECT  count (distinct person_id) FROM `yhcr-prd-bradfor-bia-core.CB_1322.A_Lin_1105_cohort_imd_ethnicty_imputed` \n",
    "WHERE imd = 3 OR imd = 4\n",
    "\n",
    "SELECT ethnicity_variable_value_8levels, count (distinct person_id) FROM `yhcr-prd-bradfor-bia-core.CB_1322.A_Lin_1105_cohort_imd_ethnicty_imputed` \n",
    "WHERE imd = 5 OR imd = 6\n",
    "GROUP BY ethnicity_variable_value_8levels\n",
    "\n",
    "SELECT  count (distinct person_id) FROM `yhcr-prd-bradfor-bia-core.CB_1322.A_Lin_1105_cohort_imd_ethnicty_imputed` \n",
    "WHERE imd = 5 OR imd = 6\n",
    "\n",
    "SELECT ethnicity_variable_value_8levels, count (distinct person_id) FROM `yhcr-prd-bradfor-bia-core.CB_1322.A_Lin_1105_cohort_imd_ethnicty_imputed` \n",
    "WHERE imd = 7 OR imd = 8\n",
    "GROUP BY ethnicity_variable_value_8levels\n",
    "\n",
    "SELECT  count (distinct person_id) FROM `yhcr-prd-bradfor-bia-core.CB_1322.A_Lin_1105_cohort_imd_ethnicty_imputed` \n",
    "WHERE imd = 7 OR imd = 8\n",
    "\n",
    "SELECT ethnicity_variable_value_8levels, count (distinct person_id) FROM `yhcr-prd-bradfor-bia-core.CB_1322.A_Lin_1105_cohort_imd_ethnicty_imputed` \n",
    "WHERE imd = 9 OR imd = 10\n",
    "GROUP BY ethnicity_variable_value_8levels\n",
    "\n",
    "SELECT  count (distinct person_id) FROM `yhcr-prd-bradfor-bia-core.CB_1322.A_Lin_1105_cohort_imd_ethnicty_imputed` \n",
    "WHERE imd = 9 OR imd = 10"
   ]
  },
  {
   "cell_type": "markdown",
   "id": "1f73d379-422c-463e-8540-1fc4bbc0739a",
   "metadata": {},
   "source": [
    "check age distribution for further analysis"
   ]
  },
  {
   "cell_type": "code",
   "execution_count": null,
   "id": "e0690409-0bdc-4e12-a228-c70fba24af1a",
   "metadata": {},
   "outputs": [],
   "source": [
    "SELECT \n",
    "    ethnicity_variable_label_8levels AS ethnicity,\n",
    "    CASE \n",
    "        WHEN AGE BETWEEN 45 AND 64 THEN '45-64'\n",
    "        WHEN AGE BETWEEN 65 AND 85 THEN '65-85'\n",
    "        ELSE '85+' \n",
    "    END AS age_group,\n",
    "    COUNT(DISTINCT person_id) AS person_count\n",
    "FROM \n",
    "    `yhcr-prd-bradfor-bia-core.CB_1322.A_Lin_1105_cohort_imd_ethnicty_imputed`\n",
    "GROUP BY \n",
    "    ethnicity, age_group\n",
    "ORDER BY \n",
    "    ethnicity, age_group;"
   ]
  }
 ],
 "metadata": {
  "environment": {
   "kernel": "ir",
   "name": "r-cpu.m125",
   "type": "gcloud",
   "uri": "us-docker.pkg.dev/deeplearning-platform-release/gcr.io/r-cpu:m125"
  },
  "kernelspec": {
   "display_name": "R (Local)",
   "language": "R",
   "name": "ir"
  },
  "language_info": {
   "codemirror_mode": "r",
   "file_extension": ".r",
   "mimetype": "text/x-r-source",
   "name": "R",
   "pygments_lexer": "r",
   "version": "4.4.1"
  }
 },
 "nbformat": 4,
 "nbformat_minor": 5
}
