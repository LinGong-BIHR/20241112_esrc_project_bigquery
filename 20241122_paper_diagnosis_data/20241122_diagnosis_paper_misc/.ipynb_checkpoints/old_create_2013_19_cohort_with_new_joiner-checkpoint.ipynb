{
 "cells": [
  {
   "cell_type": "code",
   "execution_count": null,
   "id": "1652ae09-833b-4ed4-97c4-c83e18d2f19b",
   "metadata": {},
   "outputs": [],
   "source": [
    "# create table"
   ]
  },
  {
   "cell_type": "code",
   "execution_count": null,
   "id": "d1be83b6-98fb-41b5-a8a9-d6158fc86090",
   "metadata": {},
   "outputs": [],
   "source": [
    "Create table `yhcr-prd-phm-bia-core.CB_MYSPACE_LG.sources_for_new`  as\n",
    "SELECT person_id,gender_source_value, birth_datetime, death_datetime,ethnicity_concept_id, \n",
    "DATE_ADD(birth_datetime, interval 45 YEAR) AS Date_of_45 FROM `yhcr-prd-phm-bia-core.CB_FDM_PrimaryCare_V9.person` \n",
    "\n",
    "Create table `yhcr-prd-phm-bia-core.CB_MYSPACE_LG.new_joiner_2014` as\n",
    "    SELECT distinct person_id,gender_source_value, birth_datetime, death_datetime,ethnicity_concept_id, Date_of_45, \n",
    "    DATETIME_DIFF( '2014-12-31', birth_datetime, DAY)/365 as age\n",
    "    FROM `yhcr-prd-phm-bia-core.CB_MYSPACE_LG.sources_for_new`\n",
    "WHERE  Date_of_45>='2014-01-01' AND Date_of_45<='2014-12-31'\n",
    "\n",
    "Create table `yhcr-prd-phm-bia-core.CB_MYSPACE_LG.new_joiner_2015` as\n",
    "    SELECT distinct person_id,gender_source_value, birth_datetime, death_datetime,ethnicity_concept_id, Date_of_45, \n",
    "    DATETIME_DIFF( '2015-12-31', birth_datetime, DAY)/365 as age\n",
    "    FROM `yhcr-prd-phm-bia-core.CB_MYSPACE_LG.sources_for_new`\n",
    "WHERE  Date_of_45>='2015-01-01' AND Date_of_45<='2015-12-31'\n",
    "\n",
    "Create table `yhcr-prd-phm-bia-core.CB_MYSPACE_LG.new_joiner_2016` as\n",
    "    SELECT distinct person_id,gender_source_value, birth_datetime, death_datetime,ethnicity_concept_id, Date_of_45, \n",
    "    DATETIME_DIFF( '2016-12-31', birth_datetime, DAY)/365 as age\n",
    "    FROM `yhcr-prd-phm-bia-core.CB_MYSPACE_LG.sources_for_new`\n",
    "WHERE  Date_of_45>='2016-01-01' AND Date_of_45<='2016-12-31'\n",
    "\n",
    "Create table `yhcr-prd-phm-bia-core.CB_MYSPACE_LG.new_joiner_2017` as\n",
    "    SELECT distinct person_id,gender_source_value, birth_datetime, death_datetime,ethnicity_concept_id, Date_of_45, \n",
    "    DATETIME_DIFF( '2017-12-31', birth_datetime, DAY)/365 as age\n",
    "    FROM `yhcr-prd-phm-bia-core.CB_MYSPACE_LG.sources_for_new`\n",
    "WHERE  Date_of_45>='2017-01-01' AND Date_of_45<='2017-12-31'\n",
    "\n",
    "Create table `yhcr-prd-phm-bia-core.CB_MYSPACE_LG.new_joiner_2018` as\n",
    "    SELECT distinct person_id,gender_source_value, birth_datetime, death_datetime,ethnicity_concept_id, Date_of_45, \n",
    "    DATETIME_DIFF( '2018-12-31', birth_datetime, DAY)/365 as age\n",
    "    FROM `yhcr-prd-phm-bia-core.CB_MYSPACE_LG.sources_for_new`\n",
    "WHERE  Date_of_45>='2018-01-01' AND Date_of_45<='2018-12-31'\n",
    "\n",
    "Create table `yhcr-prd-phm-bia-core.CB_MYSPACE_LG.new_joiner_2019` as\n",
    "    SELECT distinct person_id,gender_source_value, birth_datetime, death_datetime,ethnicity_concept_id, Date_of_45, \n",
    "    DATETIME_DIFF( '2019-12-31', birth_datetime, DAY)/365 as age\n",
    "    FROM `yhcr-prd-phm-bia-core.CB_MYSPACE_LG.sources_for_new`\n",
    "WHERE  Date_of_45>='2019-01-01' AND Date_of_45<='2019-12-31'\n",
    "\n",
    "Create table `yhcr-prd-phm-bia-core.CB_MYSPACE_LG.pj1_first_year` as\n",
    "    SELECT distinct person_id,gender_source_value, birth_datetime, death_datetime,ethnicity_concept_id,  \n",
    "    DATETIME_DIFF( '2013-12-31', birth_datetime, DAY)/365 as age\n",
    "    FROM `yhcr-prd-phm-bia-core.CB_FDM_PrimaryCare_V9.person` \n",
    "WHERE DATETIME_DIFF( '2013-12-31', birth_datetime, DAY)/365 >=45  \n",
    "\n",
    "DELETE FROM `yhcr-prd-phm-bia-core.CB_MYSPACE_LG.pj1_first_year` WHERE death_datetime< '2013-12-31'\n",
    "\n",
    "#UNION\n",
    "CREATE TABLE `yhcr-prd-phm-bia-core.CB_MYSPACE_LG.pj1_2013-2019` as\n",
    "SELECT *\n",
    "FROM `yhcr-prd-phm-bia-core.CB_MYSPACE_LG.pj1_first_year`  \n",
    "UNION  DISTINCT\n",
    "SELECT * except (Date_of_45)\n",
    "FROM `yhcr-prd-phm-bia-core.CB_MYSPACE_LG.new_joiner_2014` \n",
    "UNION  DISTINCT\n",
    "SELECT * except (Date_of_45)\n",
    "FROM `yhcr-prd-phm-bia-core.CB_MYSPACE_LG.new_joiner_2015` \n",
    "UNION  DISTINCT\n",
    "SELECT * except (Date_of_45)\n",
    "FROM `yhcr-prd-phm-bia-core.CB_MYSPACE_LG.new_joiner_2016` \n",
    "UNION  DISTINCT\n",
    "SELECT * except (Date_of_45)\n",
    "FROM `yhcr-prd-phm-bia-core.CB_MYSPACE_LG.new_joiner_2017` \n",
    "UNION  DISTINCT\n",
    "SELECT * except (Date_of_45)\n",
    "FROM `yhcr-prd-phm-bia-core.CB_MYSPACE_LG.new_joiner_2018` \n",
    "UNION  DISTINCT\n",
    "SELECT * except (Date_of_45)\n",
    "FROM `yhcr-prd-phm-bia-core.CB_MYSPACE_LG.new_joiner_2019` \n",
    "\n",
    "CREATE TABLE `yhcr-prd-phm-bia-core.CB_MYSPACE_LG.merge`\n",
    "as SELECT a.*, b.recode_ethnicity_concept_id\n",
    "FROM `yhcr-prd-phm-bia-core.CB_MYSPACE_LG.pj1_2013-2019` a Left Join  `yhcr-prd-phm-bia-core.CB_MYSPACE_LG.clean_impute_ethnicity_1220` b\n",
    "ON a.person_id=b.person_id\n",
    "\n",
    "UPDATE `yhcr-prd-phm-bia-core.CB_MYSPACE_LG.merge`\n",
    "SET ethnicity_concept_id = recode_ethnicity_concept_id\n",
    "WHERE ethnicity_concept_id = 8552\n",
    "\n",
    "CREATE TABLE `yhcr-prd-phm-bia-core.CB_MYSPACE_LG.pj1_2013-2019_impute` as \n",
    "SELECT a.*\n",
    ", b.gender_variable_value \n",
    ", b.gender_variable_label\n",
    ", c.ethnicity_variable_value_8levels\n",
    ", c.ethnicity_variable_label_8levels\n",
    "FROM `yhcr-prd-phm-bia-core.CB_MYSPACE_LG.merge` as a \n",
    "LEFT join `yhcr-prd-phm-bia-core.CB_MYSPACE_LG.clean_gender` as b on a.gender_source_value = b.gender_source_value \n",
    "LEFT join `yhcr-prd-phm-bia-core.CB_MYSPACE_LG.clean_ethnic_1220` as c on a.ethnicity_concept_id = c.concept_id\n",
    "\n",
    "# identify dementia people (2013-2019)\n",
    "CREATE TABLE `yhcr-prd-phm-bia-core.CB_MYSPACE_LG.pj1_2013-2019_dementia`\n",
    "AS SELECT person_id, dementia_variable_value \n",
    "FROM `yhcr-prd-phm-bia-core.CB_MYSPACE_LG.pj1_dementia_all`\n",
    "WHERE (dementia_variable_start_time>='2013-01-01' AND dementia_variable_start_time<='2019-12-31') \n",
    "\n",
    "CREATE TABLE `yhcr-prd-phm-bia-core.CB_MYSPACE_LG.pj1_all_2013-2019` AS\n",
    "SELECT distinct a.*, b. dementia_variable_value \n",
    "FROM  `yhcr-prd-phm-bia-core.CB_MYSPACE_LG.pj1_2013-2019_impute`  a\n",
    "LEFT JOIN  `yhcr-prd-phm-bia-core.CB_MYSPACE_LG.pj1_2013-2019_dementia` b on a.person_id = b.person_id \n",
    "\n",
    "DELETE TABLE `yhcr-prd-phm-bia-core.CB_MYSPACE_LG.pj1_2013-2019` and others...\n",
    "\n",
    "CREATE TABLE `yhcr-prd-phm-bia-core.CB_MYSPACE_LG.pj1_cohort_2013_19` as\n",
    "SELECT a.*, b.dementia_variable_start_time FROM `yhcr-prd-phm-bia-core.CB_MYSPACE_LG.pj1_all_2013-2019` a\n",
    "LEFT JOIN `yhcr-prd-phm-bia-core.CB_MYSPACE_LG.pj1_dementia_13-19` b\n",
    "on a.person_id=b.person_id"
   ]
  },
  {
   "cell_type": "code",
   "execution_count": null,
   "id": "7bf27f60-30ae-4db2-82ba-2f10070fc4e3",
   "metadata": {},
   "outputs": [],
   "source": [
    "# save table"
   ]
  },
  {
   "cell_type": "code",
   "execution_count": 1,
   "id": "3be9454d-c219-4f9c-9dd0-141515568ca4",
   "metadata": {},
   "outputs": [
    {
     "name": "stderr",
     "output_type": "stream",
     "text": [
      "── \u001b[1mAttaching core tidyverse packages\u001b[22m ──────────────────────── tidyverse 2.0.0 ──\n",
      "\u001b[32m✔\u001b[39m \u001b[34mdplyr    \u001b[39m 1.1.3     \u001b[32m✔\u001b[39m \u001b[34mreadr    \u001b[39m 2.1.4\n",
      "\u001b[32m✔\u001b[39m \u001b[34mforcats  \u001b[39m 1.0.0     \u001b[32m✔\u001b[39m \u001b[34mstringr  \u001b[39m 1.5.0\n",
      "\u001b[32m✔\u001b[39m \u001b[34mggplot2  \u001b[39m 3.4.3     \u001b[32m✔\u001b[39m \u001b[34mtibble   \u001b[39m 3.2.1\n",
      "\u001b[32m✔\u001b[39m \u001b[34mlubridate\u001b[39m 1.9.2     \u001b[32m✔\u001b[39m \u001b[34mtidyr    \u001b[39m 1.3.0\n",
      "\u001b[32m✔\u001b[39m \u001b[34mpurrr    \u001b[39m 1.0.2     \n",
      "── \u001b[1mConflicts\u001b[22m ────────────────────────────────────────── tidyverse_conflicts() ──\n",
      "\u001b[31m✖\u001b[39m \u001b[34mdplyr\u001b[39m::\u001b[32mfilter()\u001b[39m masks \u001b[34mstats\u001b[39m::filter()\n",
      "\u001b[31m✖\u001b[39m \u001b[34mdplyr\u001b[39m::\u001b[32mlag()\u001b[39m    masks \u001b[34mstats\u001b[39m::lag()\n",
      "\u001b[36mℹ\u001b[39m Use the conflicted package (\u001b[3m\u001b[34m<http://conflicted.r-lib.org/>\u001b[39m\u001b[23m) to force all conflicts to become errors\n"
     ]
    },
    {
     "name": "stdout",
     "output_type": "stream",
     "text": [
      "[1] \"CB_FDM_PrimaryCare_V9\"\n"
     ]
    }
   ],
   "source": [
    "rm(list=ls())\n",
    "library(bigrquery)\n",
    "library(tidyverse)\n",
    "bq_auth()\n",
    "\n",
    "project <- \"yhcr-prd-phm-bia-core\"\n",
    "project_id <- \"yhcr-prd-phm-bia-core\"\n",
    "source_dataset_pri <-'CB_FDM_PrimaryCare_V9'\n",
    "source_dataset_pri <-gsub(' ','',source_dataset_pri)\n",
    "\n",
    "print (source_dataset_pri)\n",
    "target_dataset <- \"CB_MYSPACE_LG\"\n",
    "\n",
    "sql_query <- \"SELECT * FROM  `yhcr-prd-phm-bia-core.CB_MYSPACE_LG.pj1_cohort_2013_19_index` \"\n",
    "my_query <- bq_project_query(project_id, sql_query)\n",
    "table <- bq_table_download(my_query)\n",
    "write.csv(table, 'cohort_0522_index.csv')"
   ]
  },
  {
   "cell_type": "code",
   "execution_count": null,
   "id": "a1e36619-5bcc-44d4-a29f-b4a3185eab59",
   "metadata": {},
   "outputs": [],
   "source": [
    "# calcualte"
   ]
  },
  {
   "cell_type": "code",
   "execution_count": null,
   "id": "ccf80de3-d4e6-4d79-8fa1-239c91de2a0f",
   "metadata": {},
   "outputs": [
    {
     "name": "stderr",
     "output_type": "stream",
     "text": [
      "── \u001b[1mAttaching core tidyverse packages\u001b[22m ──────────────────────── tidyverse 2.0.0 ──\n",
      "\u001b[32m✔\u001b[39m \u001b[34mdplyr    \u001b[39m 1.1.3     \u001b[32m✔\u001b[39m \u001b[34mreadr    \u001b[39m 2.1.4\n",
      "\u001b[32m✔\u001b[39m \u001b[34mforcats  \u001b[39m 1.0.0     \u001b[32m✔\u001b[39m \u001b[34mstringr  \u001b[39m 1.5.0\n",
      "\u001b[32m✔\u001b[39m \u001b[34mggplot2  \u001b[39m 3.4.3     \u001b[32m✔\u001b[39m \u001b[34mtibble   \u001b[39m 3.2.1\n",
      "\u001b[32m✔\u001b[39m \u001b[34mlubridate\u001b[39m 1.9.2     \u001b[32m✔\u001b[39m \u001b[34mtidyr    \u001b[39m 1.3.0\n",
      "\u001b[32m✔\u001b[39m \u001b[34mpurrr    \u001b[39m 1.0.2     \n",
      "── \u001b[1mConflicts\u001b[22m ────────────────────────────────────────── tidyverse_conflicts() ──\n",
      "\u001b[31m✖\u001b[39m \u001b[34mdplyr\u001b[39m::\u001b[32mfilter()\u001b[39m masks \u001b[34mstats\u001b[39m::filter()\n",
      "\u001b[31m✖\u001b[39m \u001b[34mdplyr\u001b[39m::\u001b[32mlag()\u001b[39m    masks \u001b[34mstats\u001b[39m::lag()\n",
      "\u001b[36mℹ\u001b[39m Use the conflicted package (\u001b[3m\u001b[34m<http://conflicted.r-lib.org/>\u001b[39m\u001b[23m) to force all conflicts to become errors\n",
      "\n",
      "Attaching package: ‘Hmisc’\n",
      "\n",
      "\n",
      "The following objects are masked from ‘package:dplyr’:\n",
      "\n",
      "    src, summarize\n",
      "\n",
      "\n",
      "The following objects are masked from ‘package:base’:\n",
      "\n",
      "    format.pval, units\n",
      "\n",
      "\n"
     ]
    },
    {
     "name": "stdout",
     "output_type": "stream",
     "text": [
      "[1] 409214\n"
     ]
    }
   ],
   "source": [
    "rm(list=ls())\n",
    "library(tidyverse)\n",
    "library(lubridate)\n",
    "library(dplyr) \n",
    "library(rio)\n",
    "library(lubridate)\n",
    "library(survival)\n",
    "library(Hmisc)\n",
    "\n",
    "data=import('cohort_0522_index.csv')\n",
    "print(nrow(data))"
   ]
  },
  {
   "cell_type": "code",
   "execution_count": null,
   "id": "58726484-f271-4ae2-b203-921b0b4a9a55",
   "metadata": {},
   "outputs": [
    {
     "data": {
      "text/plain": [
       "\n",
       "2014-01-11 2014-01-15 2014-02-02 2014-02-15 2014-03-03 2014-03-07 2014-03-15 \n",
       "         1        475          1        464          1          1        453 \n",
       "2014-04-15 2014-05-02 2014-05-15 2014-06-02 2014-06-09 2014-06-15 2014-07-15 \n",
       "       451          1        409          1          1        374        404 \n",
       "2014-08-15 2014-09-15 2014-10-03 2014-10-08 2014-10-11 2014-10-15 2014-11-12 \n",
       "       418        432          1          1          1        506          1 \n",
       "2014-11-15 2014-12-01 2014-12-02 2014-12-09 2014-12-15 2015-01-15 2015-02-10 \n",
       "       435          1          1          2        629        608          1 \n",
       "2015-02-15 2015-03-15 2015-04-01 2015-04-09 2015-04-15 2015-05-07 2015-05-15 \n",
       "       493        520          1          1        468          2        467 \n",
       "2015-06-04 2015-06-10 2015-06-15 2015-07-03 2015-07-15 2015-08-10 2015-08-15 \n",
       "         1          1        427          1        405          1        443 \n",
       "2015-09-07 2015-09-15 2015-10-06 2015-10-15 2015-11-15 2015-12-10 2015-12-15 \n",
       "         1        425          1        463        454          1        516 \n",
       "2016-01-15 2016-02-15 2016-03-02 2016-03-09 2016-03-10 2016-03-15 2016-04-15 \n",
       "       562        499          1          1          1        538        498 \n",
       "2016-05-03 2016-05-15 2016-06-15 2016-07-01 2016-07-15 2016-08-03 2016-08-15 \n",
       "         1        481        434          1        497          1        425 \n",
       "2016-09-15 2016-10-15 2016-11-08 2016-11-15 2016-12-04 2016-12-15 2017-01-04 \n",
       "       428        488          1        498          1        537          1 \n",
       "2017-01-15 2017-02-02 2017-02-15 2017-03-03 2017-03-04 2017-03-15 2017-04-15 \n",
       "       577          1        449          1          1        487        439 \n",
       "2017-05-08 2017-05-15 2017-06-07 2017-06-10 2017-06-15 2017-07-07 2017-07-11 \n",
       "         1        462          1          1        451          1          1 \n",
       "2017-07-15 2017-08-01 2017-08-08 2017-08-09 2017-08-15 2017-09-15 2017-10-04 \n",
       "       433          1          1          1        406        487          1 \n",
       "2017-10-15 2017-11-15 2017-12-03 2017-12-04 2017-12-07 2017-12-12 2017-12-15 \n",
       "       480        474          1          2          1          1        622 \n",
       "2018-01-05 2018-01-10 2018-01-15 2018-02-12 2018-02-15 2018-03-03 2018-03-04 \n",
       "         1          1        664          2        541          1          1 \n",
       "2018-03-06 2018-03-15 2018-04-02 2018-04-15 2018-05-15 2018-06-08 2018-06-15 \n",
       "         1        510          1        452        441          1        419 \n",
       "2018-07-03 2018-07-15 2018-08-12 2018-08-15 2018-09-08 2018-09-15 2018-10-15 \n",
       "         1        430          1        423          1        416        483 \n",
       "2018-11-01 2018-11-11 2018-11-15 2018-12-08 2018-12-09 2018-12-10 2018-12-15 \n",
       "         1          1        486          1          1          1        517 \n",
       "2019-01-15 2019-02-15 2019-03-01 2019-03-04 2019-03-09 2019-03-15 2019-04-15 \n",
       "       593        513          1          1          1        479        460 \n",
       "2019-05-15 2019-06-02 2019-06-03 2019-06-07 2019-06-09 2019-06-15 2019-07-06 \n",
       "       426          1          1          1          1        425          1 \n",
       "2019-07-09 2019-07-15 2019-08-10 2019-08-15 2019-09-04 2019-09-11 2019-09-15 \n",
       "         1        445          1        437          1          1        407 \n",
       "2019-10-12 2019-10-15 2019-11-07 2019-11-15 2019-12-15 2020-01-03 2020-01-04 \n",
       "         1        475          1        471        579          1          2 \n",
       "2020-01-07 2020-01-11 2020-01-15 2020-02-15 2020-03-12 2020-03-15 2020-04-02 \n",
       "         1          2        564        501          1        564          1 \n",
       "2020-04-11 2020-04-15 2020-05-02 2020-05-05 2020-05-07 2020-05-15 2020-06-07 \n",
       "         2        927          1          1          2        601          1 \n",
       "2020-06-09 2020-06-15 2020-07-04 2020-07-05 2020-07-07 2020-07-15 2020-08-02 \n",
       "         1        356          1          1          1        345          1 \n",
       "2020-08-04 2020-08-06 2020-08-10 2020-08-11 2020-08-15 2020-09-15 2020-10-01 \n",
       "         1          1          1          1        331        347          1 \n",
       "2020-10-04 2020-10-09 2020-10-11 2020-10-15 2020-11-09 2020-11-15 2020-12-12 \n",
       "         1          1          1        457          1        508          1 \n",
       "2020-12-15 2021-01-01 2021-01-06 2021-01-07 2021-01-09 2021-01-10 2021-01-15 \n",
       "       500          1          1          1          1          1        528 \n",
       "2021-02-15 2021-03-15 2021-04-01 2021-04-03 2021-04-05 2021-04-06 2021-04-15 \n",
       "       441        376          1          1          1          1        399 \n",
       "2021-05-01 2021-05-05 2021-05-15 2021-06-15 2021-07-11 2021-07-15 2021-08-07 \n",
       "         1          1        383        342          1        376          1 \n",
       "2021-08-12 2021-08-15 2021-09-06 2021-09-07 2021-09-11 2021-09-12 2021-09-15 \n",
       "         1        400          1          1          1          1        425 \n",
       "2021-10-01 2021-10-11 2021-10-12 2021-10-15 2021-11-04 2021-11-10 2021-11-11 \n",
       "         1          1          1        441          2          1          1 \n",
       "2021-11-15 2021-12-03 2021-12-11 2021-12-12 2021-12-15 2022-01-11 2022-01-15 \n",
       "       421          1          1          1        473          1        501 \n",
       "2022-02-08 2022-02-15 2022-03-04 2022-03-15 2022-04-15 2022-05-04 2022-05-05 \n",
       "         1        386          1        429        448          1          1 \n",
       "2022-05-07 2022-05-08 2022-05-15 2022-06-02 2022-06-06 2022-06-08 2022-06-15 \n",
       "         1          1        415          1          2          1        368 \n",
       "2022-07-01 2022-07-07 2022-07-11 2022-07-15 2022-08-02 2022-08-07 2022-08-12 \n",
       "         1          1          1        395          1          1          1 \n",
       "2022-08-15 2022-09-01 2022-09-02 2022-09-04 2022-09-05 2022-09-08 2022-09-10 \n",
       "       394          1          1          1          1          1          1 \n",
       "2022-09-15 2022-10-01 2022-10-15 2022-11-01 2022-11-05 2022-11-07 2022-11-10 \n",
       "       390          1        451          1          1          1          1 \n",
       "2022-11-11 2022-11-12 2022-11-15 2022-12-05 2022-12-06 2022-12-09 2022-12-15 \n",
       "         1          1        363          1          1          1        512 \n",
       "2023-01-01 2023-01-02 2023-01-04 2023-01-15 2023-02-04 2023-02-05 2023-02-10 \n",
       "         2          1          1        466          1          2          1 \n",
       "2023-02-12 2023-02-15 2023-03-01 2023-03-04 2023-03-06 2023-03-12 2023-03-15 \n",
       "         1        340          1          1          1          1        451 \n",
       "2023-04-02 2023-04-05 2023-04-07 2023-04-12 2023-04-15 2023-05-04 2023-05-05 \n",
       "         1          1          1          2        337          1          1 \n",
       "2023-05-11 2023-05-15 2023-06-15 2023-07-02 2023-07-03 2023-07-11 2023-07-15 \n",
       "         1        313        278          1          1          1        303 \n",
       "2023-08-03 2023-08-15 2023-09-15 2023-10-15 2023-11-15 2023-12-15 2024-01-15 \n",
       "         4        281        287        323        350        351         27 "
      ]
     },
     "metadata": {},
     "output_type": "display_data"
    },
    {
     "data": {
      "text/plain": [
       "\n",
       "2013-01-01 \n",
       "    409214 "
      ]
     },
     "metadata": {},
     "output_type": "display_data"
    },
    {
     "data": {
      "text/plain": [
       "   Min. 1st Qu.  Median    Mean 3rd Qu.    Max. \n",
       "  0.000   7.000   7.000   6.924   7.000   7.000 "
      ]
     },
     "metadata": {},
     "output_type": "display_data"
    }
   ],
   "source": [
    "data$birth_datetime<-as.Date(data$birth_datetime,format = \"%Y/%m/%d\")\n",
    "data$death_datetime<-as.Date(data$death_datetime,format = \"%Y/%m/%d\")\n",
    "data$time_start='2013-01-01'\n",
    "data$time_start=as.Date(data$time_start)\n",
    "table(data$death_datetime)\n",
    "table(data$time_start)\n",
    "\n",
    "data$dementia_variable_start_time=as.Date(data$dementia_variable_start_time,format = \"%Y/%m/%d\")\n",
    "data$time_to_dementia<-(as.numeric(data$dementia_variable_start_time)-as.numeric(data$time_start))/365\n",
    "data$time_to_dementia<-ifelse(is.na(data$time_to_dementia),7,data$time_to_dementia)\n",
    "summary(data$time_to_dementia)"
   ]
  },
  {
   "cell_type": "code",
   "execution_count": 6,
   "id": "cae26889-8e7f-43b5-a823-e8f5ddbd7b1b",
   "metadata": {},
   "outputs": [
    {
     "data": {
      "text/plain": [
       "\n",
       "     0      1 \n",
       "400243   8940 "
      ]
     },
     "metadata": {},
     "output_type": "display_data"
    }
   ],
   "source": [
    "df=subset(data,data$time_to_dementia>0&data$time_to_dementia<=7) \n",
    "df$dementia=ifelse(is.na(df$dementia_variable_start_time),0,1)\n",
    "table(df$dementia)\n",
    "fit<-pyears(Surv(time = df$time_to_dementia,event = df$dementia)~ethnicity_variable_label_8levels,\n",
    "            data=df, scale=1) \n",
    "fit\n",
    "e<-fit$event\n",
    "e\n",
    "t<-fit$pyears\n",
    "t\n",
    "dt1=binconf(e,t,alpha = 0.05,method = \"asymptotic\")\n",
    "dt1\n"
   ]
  },
  {
   "cell_type": "code",
   "execution_count": null,
   "id": "36491484-4deb-414e-b81e-ba2a2d90a94b",
   "metadata": {},
   "outputs": [],
   "source": [
    "CREATE TABLE `yhcr-prd-phm-bia-core.CB_MYSPACE_LG.pj1_cohort_index` as\n",
    "Select distinct a.*\n",
    "  , c.Lsoa\n",
    "  , max(Index_of_Multiple_Deprivation_Decile) IMD\n",
    "  from `yhcr-prd-phm-bia-core.CB_MYSPACE_LG.pj1_cohort_2013_19` a\n",
    "left join `yhcr-prd-phm-bia-core.CB_LOOKUPS.tbl_person_lsoa` as c \n",
    "on a.person_id = c.person_id\n",
    "left join `yhcr-prd-phm-bia-core.CB_LOOKUPS.tbl_IMD_by_LSOA` as d \n",
    "on c.lsoa = d.LSOA_code\n",
    "group by person_id, gender_source_value, birth_datetime, death_datetime, ethnicity_concept_id, age, recode_ethnicity_concept_id, gender_variable_value, gender_variable_label, ethnicity_variable_value_8levels, ethnicity_variable_label_8levels, dementia_variable_value, dementia_variable_start_time, Lsoa\n",
    "\n",
    "CREATE TABLE `yhcr-prd-phm-bia-core.CB_MYSPACE_LG.pj1_cohort_2013_19_index` as\n",
    "Select person_id, gender_source_value, birth_datetime, death_datetime, ethnicity_concept_id, \n",
    "age, recode_ethnicity_concept_id, gender_variable_value, gender_variable_label, \n",
    "ethnicity_variable_value_8levels, ethnicity_variable_label_8levels,\n",
    "dementia_variable_value, dementia_variable_start_time, min(IMD) max_imd\n",
    "FROM `yhcr-prd-phm-bia-core.CB_MYSPACE_LG.pj1_cohort_index`\n",
    "GROUP BY   person_id, gender_source_value, birth_datetime, death_datetime, ethnicity_concept_id, \n",
    "age, recode_ethnicity_concept_id, gender_variable_value, gender_variable_label, \n",
    "ethnicity_variable_value_8levels, ethnicity_variable_label_8levels,\n",
    "dementia_variable_value, dementia_variable_start_time"
   ]
  },
  {
   "cell_type": "code",
   "execution_count": 8,
   "id": "576b7565-0419-46ed-a0f6-df77f1fd18c2",
   "metadata": {},
   "outputs": [
    {
     "data": {
      "text/plain": [
       "\n",
       "     0      1 \n",
       "400243   8940 "
      ]
     },
     "metadata": {},
     "output_type": "display_data"
    }
   ],
   "source": [
    "df=subset(data,data$time_to_dementia>0&data$time_to_dementia<=7) \n",
    "df$dementia=ifelse(is.na(df$dementia_variable_start_time),0,1)\n",
    "table(df$dementia)\n",
    "\n",
    "df$ethnicity_variable_value_8levels<-as.factor(data$ethnicity_variable_value_8levels)\n"
   ]
  },
  {
   "cell_type": "code",
   "execution_count": 29,
   "id": "171cbcb5-dc0f-487f-91ac-2c242d36b923",
   "metadata": {},
   "outputs": [],
   "source": [
    "data$ethnicity <- data.frame(ethnicity = factor(data$ethnicity_variable_value_8levels))"
   ]
  },
  {
   "cell_type": "code",
   "execution_count": 6,
   "id": "3566b158-e86b-4f92-995f-60f4e72b8307",
   "metadata": {},
   "outputs": [
    {
     "data": {
      "text/plain": [
       "Call:\n",
       "coxph(formula = Surv(time_to_dementia, dementia) ~ gender_variable_value + \n",
       "    age + ethnicity_variable_value_8levels, data = df)\n",
       "\n",
       "  n= 278886, number of events= 7526 \n",
       "   (130297 observations deleted due to missingness)\n",
       "\n",
       "                                       coef  exp(coef)   se(coef)       z\n",
       "gender_variable_value             0.0786600  1.0818364  0.0239579   3.283\n",
       "age                               0.1059299  1.1117439  0.0009144 115.850\n",
       "ethnicity_variable_value_8levels -0.0863374  0.9172847  0.0126448  -6.828\n",
       "                                 Pr(>|z|)    \n",
       "gender_variable_value             0.00103 ** \n",
       "age                               < 2e-16 ***\n",
       "ethnicity_variable_value_8levels 8.62e-12 ***\n",
       "---\n",
       "Signif. codes:  0 ‘***’ 0.001 ‘**’ 0.01 ‘*’ 0.05 ‘.’ 0.1 ‘ ’ 1\n",
       "\n",
       "                                 exp(coef) exp(-coef) lower .95 upper .95\n",
       "gender_variable_value               1.0818     0.9244    1.0322    1.1338\n",
       "age                                 1.1117     0.8995    1.1098    1.1137\n",
       "ethnicity_variable_value_8levels    0.9173     1.0902    0.8948    0.9403\n",
       "\n",
       "Concordance= 0.889  (se = 0.001 )\n",
       "Likelihood ratio test= 16506  on 3 df,   p=<2e-16\n",
       "Wald test            = 14170  on 3 df,   p=<2e-16\n",
       "Score (logrank) test = 19979  on 3 df,   p=<2e-16\n"
      ]
     },
     "metadata": {},
     "output_type": "display_data"
    }
   ],
   "source": [
    "cox_model <- coxph(Surv(time_to_dementia, dementia) ~ gender_variable_value + age + ethnicity_variable_value_8levels, data = df)\n",
    "summary(cox_model)"
   ]
  },
  {
   "cell_type": "code",
   "execution_count": null,
   "id": "404164b7-e7f0-4dba-bafa-4f566a4d4867",
   "metadata": {},
   "outputs": [],
   "source": []
  }
 ],
 "metadata": {
  "environment": {
   "kernel": "ir",
   "name": "r-cpu.m125",
   "type": "gcloud",
   "uri": "us-docker.pkg.dev/deeplearning-platform-release/gcr.io/r-cpu:m125"
  },
  "kernelspec": {
   "display_name": "R (Local)",
   "language": "R",
   "name": "ir"
  },
  "language_info": {
   "codemirror_mode": "r",
   "file_extension": ".r",
   "mimetype": "text/x-r-source",
   "name": "R",
   "pygments_lexer": "r",
   "version": "4.4.1"
  }
 },
 "nbformat": 4,
 "nbformat_minor": 5
}
