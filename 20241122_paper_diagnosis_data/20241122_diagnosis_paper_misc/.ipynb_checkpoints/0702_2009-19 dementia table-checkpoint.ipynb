{
 "cells": [
  {
   "cell_type": "code",
   "execution_count": 1,
   "id": "524be071-01a9-416a-a7d6-7d673d829634",
   "metadata": {},
   "outputs": [
    {
     "name": "stderr",
     "output_type": "stream",
     "text": [
      "── \u001b[1mAttaching core tidyverse packages\u001b[22m ──────────────────────── tidyverse 2.0.0 ──\n",
      "\u001b[32m✔\u001b[39m \u001b[34mdplyr    \u001b[39m 1.1.3     \u001b[32m✔\u001b[39m \u001b[34mreadr    \u001b[39m 2.1.4\n",
      "\u001b[32m✔\u001b[39m \u001b[34mforcats  \u001b[39m 1.0.0     \u001b[32m✔\u001b[39m \u001b[34mstringr  \u001b[39m 1.5.0\n",
      "\u001b[32m✔\u001b[39m \u001b[34mggplot2  \u001b[39m 3.4.3     \u001b[32m✔\u001b[39m \u001b[34mtibble   \u001b[39m 3.2.1\n",
      "\u001b[32m✔\u001b[39m \u001b[34mlubridate\u001b[39m 1.9.2     \u001b[32m✔\u001b[39m \u001b[34mtidyr    \u001b[39m 1.3.0\n",
      "\u001b[32m✔\u001b[39m \u001b[34mpurrr    \u001b[39m 1.0.2     \n",
      "── \u001b[1mConflicts\u001b[22m ────────────────────────────────────────── tidyverse_conflicts() ──\n",
      "\u001b[31m✖\u001b[39m \u001b[34mdplyr\u001b[39m::\u001b[32mfilter()\u001b[39m masks \u001b[34mstats\u001b[39m::filter()\n",
      "\u001b[31m✖\u001b[39m \u001b[34mdplyr\u001b[39m::\u001b[32mlag()\u001b[39m    masks \u001b[34mstats\u001b[39m::lag()\n",
      "\u001b[36mℹ\u001b[39m Use the conflicted package (\u001b[3m\u001b[34m<http://conflicted.r-lib.org/>\u001b[39m\u001b[23m) to force all conflicts to become errors\n"
     ]
    },
    {
     "name": "stdout",
     "output_type": "stream",
     "text": [
      "[1] \"CB_FDM_PrimaryCare_V9\"\n"
     ]
    }
   ],
   "source": [
    "rm(list=ls())\n",
    "library(bigrquery)\n",
    "library(tidyverse)\n",
    "bq_auth()\n",
    "\n",
    "project <- \"yhcr-prd-phm-bia-core\"\n",
    "project_id <- \"yhcr-prd-phm-bia-core\"\n",
    "source_dataset_pri <-'CB_FDM_PrimaryCare'\n",
    "source_dataset_pri <-gsub(' ','',source_dataset_pri)\n",
    "\n",
    "print (source_dataset_pri)\n",
    "target_dataset <- \"CB_MYSPACE_LG\"\n",
    "\n",
    "sql_query <- \"SELECT * FROM  `yhcr-prd-phm-bia-core.CB_1322.Lin_pj1_ten_year_completed_3july` \"\n",
    "my_query <- bq_project_query(project_id, sql_query)\n",
    "table <- bq_table_download(my_query)\n",
    "write.csv(table, 'dementia_ten_year_2july.csv')"
   ]
  },
  {
   "cell_type": "code",
   "execution_count": 9,
   "id": "8d98a510-c3b7-473f-b563-b24a69c671c6",
   "metadata": {},
   "outputs": [
    {
     "name": "stdout",
     "output_type": "stream",
     "text": [
      "[1] 436017\n"
     ]
    },
    {
     "data": {
      "text/plain": [
       "\n",
       "1981-03-15 1990-03-15 1995-04-15 1996-04-15 1996-06-15 1996-07-15 1996-08-15 \n",
       "         1          1          1          1          1          1          1 \n",
       "1996-09-15 1996-10-15 1996-11-15 1996-12-15 1997-01-15 1997-02-15 1997-03-15 \n",
       "         3          1          2          2          4          2          1 \n",
       "1997-04-15 1997-05-15 1997-06-15 1997-07-15 1997-08-15 1997-09-15 1997-10-15 \n",
       "         5          3          2          1          7          5          1 \n",
       "1997-11-15 1997-12-15 1998-01-15 1998-02-15 1998-03-15 1998-04-15 1998-05-15 \n",
       "         3          3          5          5          4          3          2 \n",
       "1998-06-15 1998-07-15 1998-08-15 1998-09-15 1998-10-15 1998-11-15 1998-12-15 \n",
       "         1          4          4          4          4          2          7 \n",
       "1999-01-15 1999-03-15 1999-04-15 1999-05-15 1999-07-15 1999-08-15 1999-09-15 \n",
       "         5          4          2          4          5          3          5 \n",
       "1999-10-15 1999-11-15 1999-12-15 2000-01-15 2000-02-15 2000-03-15 2000-04-15 \n",
       "         2          3          3          6          6          2          3 \n",
       "2000-05-15 2000-06-15 2000-07-15 2000-08-15 2000-09-15 2000-10-15 2000-11-15 \n",
       "         1          7          4          6          3          7          2 \n",
       "2000-12-15 2001-02-15 2001-03-15 2001-04-15 2001-05-15 2001-06-15 2001-07-15 \n",
       "         4          2          2          6          2          6          7 \n",
       "2001-08-15 2001-09-15 2001-10-15 2001-11-15 2001-12-15 2002-01-15 2002-02-15 \n",
       "         4          4          6          7          4          7          8 \n",
       "2002-03-15 2002-04-15 2002-05-15 2002-06-15 2002-07-15 2002-08-15 2002-09-15 \n",
       "         3          3          8          7          6          4         10 \n",
       "2002-10-15 2002-11-15 2002-12-15 2003-01-15 2003-02-15 2003-03-15 2003-04-15 \n",
       "         4          5          5         12          5          6          8 \n",
       "2003-05-15 2003-06-15 2003-07-15 2003-08-15 2003-09-15 2003-10-15 2003-11-15 \n",
       "         5          8          7          6          6         11          6 \n",
       "2003-12-15 2004-01-15 2004-02-15 2004-03-15 2004-04-15 2004-05-15 2004-06-15 \n",
       "         9          5          7          9          5          4          7 \n",
       "2004-07-15 2004-08-15 2004-09-15 2004-10-15 2004-11-15 2004-12-15 2005-01-15 \n",
       "         7          7          4         10          8          4          9 \n",
       "2005-02-15 2005-03-15 2005-04-15 2005-05-15 2005-06-15 2005-07-15 2005-08-15 \n",
       "         9          7          8          7          6          5          3 \n",
       "2005-09-15 2005-10-15 2005-11-15 2005-12-15 2006-01-15 2006-02-15 2006-03-15 \n",
       "         7          7          8          8         12          5          7 \n",
       "2006-04-15 2006-05-15 2006-06-15 2006-07-15 2006-08-15 2006-09-15 2006-10-15 \n",
       "         8         10          4          8          8          7         10 \n",
       "2006-11-15 2006-12-15 2007-01-15 2007-02-15 2007-03-15 2007-04-15 2007-05-15 \n",
       "         6          9          7          6          7          8         12 \n",
       "2007-06-15 2007-07-15 2007-08-15 2007-09-15 2007-10-15 2007-11-15 2007-12-15 \n",
       "        10          3          9          5         11          5         14 \n",
       "2008-01-15 2008-02-15 2008-03-15 2008-04-15 2008-05-15 2008-06-15 2008-07-15 \n",
       "        11         10         10         12          7         11          9 \n",
       "2008-08-15 2008-09-15 2008-10-15 2008-11-15 2008-12-15 2009-01-15 2009-02-15 \n",
       "         8          8          8         13         17        511        414 \n",
       "2009-03-15 2009-04-15 2009-05-15 2009-06-15 2009-07-15 2009-08-15 2009-09-15 \n",
       "       434        414        420        421        382        412        386 \n",
       "2009-10-15 2009-11-15 2009-12-15 2010-01-15 2010-02-15 2010-03-15 2010-04-15 \n",
       "       463        431        459        526        395        469        419 \n",
       "2010-05-15 2010-06-15 2010-07-15 2010-08-15 2010-09-15 2010-10-15 2010-11-15 \n",
       "       414        397        369        423        402        439        466 \n",
       "2010-12-15 2011-01-15 2011-02-15 2011-03-15 2011-04-15 2011-05-15 2011-06-15 \n",
       "       542        529        418        483        409        430        397 \n",
       "2011-07-15 2011-08-15 2011-09-15 2011-10-15 2011-11-15 2011-12-15 2012-01-15 \n",
       "       442        375        424        433        417        518        540 \n",
       "2012-02-15 2012-03-15 2012-04-15 2012-05-15 2012-06-15 2012-07-15 2012-08-15 \n",
       "       523        462        459        442        415        397        355 \n",
       "2012-09-15 2012-10-15 2012-11-15 2012-12-15 2013-01-15 2013-02-15 2013-03-15 \n",
       "       433        431        445        475        581        489        576 \n",
       "2013-04-07 2013-04-15 2013-05-07 2013-05-08 2013-05-15 2013-06-08 2013-06-10 \n",
       "         1        501          1          1        453          1          2 \n",
       "2013-06-15 2013-07-02 2013-07-15 2013-08-15 2013-09-15 2013-10-15 2013-11-15 \n",
       "       418          1        398        392        426        440        435 \n",
       "2013-12-08 2013-12-10 2013-12-15 2014-01-11 2014-01-15 2014-02-02 2014-02-15 \n",
       "         1          1        487          1        475          1        464 \n",
       "2014-03-03 2014-03-07 2014-03-15 2014-04-15 2014-05-02 2014-05-15 2014-06-02 \n",
       "         1          1        453        451          1        409          1 \n",
       "2014-06-09 2014-06-15 2014-07-15 2014-08-15 2014-09-15 2014-10-03 2014-10-08 \n",
       "         1        374        404        418        432          1          1 \n",
       "2014-10-11 2014-10-15 2014-11-12 2014-11-15 2014-12-01 2014-12-02 2014-12-09 \n",
       "         1        506          1        435          1          1          2 \n",
       "2014-12-15 2015-01-15 2015-02-10 2015-02-15 2015-03-15 2015-04-01 2015-04-09 \n",
       "       629        608          1        493        520          1          1 \n",
       "2015-04-15 2015-05-07 2015-05-15 2015-06-04 2015-06-10 2015-06-15 2015-07-03 \n",
       "       468          2        467          1          1        427          1 \n",
       "2015-07-15 2015-08-10 2015-08-15 2015-09-07 2015-09-15 2015-10-06 2015-10-15 \n",
       "       405          1        443          1        425          1        463 \n",
       "2015-11-15 2015-12-10 2015-12-15 2016-01-15 2016-02-15 2016-03-02 2016-03-09 \n",
       "       454          1        516        562        499          1          1 \n",
       "2016-03-10 2016-03-15 2016-04-15 2016-05-03 2016-05-15 2016-06-15 2016-07-01 \n",
       "         1        538        498          1        481        434          1 \n",
       "2016-07-15 2016-08-03 2016-08-15 2016-09-15 2016-10-15 2016-11-08 2016-11-15 \n",
       "       497          1        425        428        488          1        498 \n",
       "2016-12-04 2016-12-15 2017-01-04 2017-01-15 2017-02-02 2017-02-15 2017-03-03 \n",
       "         1        537          1        577          1        449          1 \n",
       "2017-03-04 2017-03-15 2017-04-15 2017-05-08 2017-05-15 2017-06-07 2017-06-10 \n",
       "         1        487        439          1        462          1          1 \n",
       "2017-06-15 2017-07-07 2017-07-11 2017-07-15 2017-08-01 2017-08-08 2017-08-09 \n",
       "       451          1          1        433          1          1          1 \n",
       "2017-08-15 2017-09-15 2017-10-04 2017-10-15 2017-11-15 2017-12-03 2017-12-04 \n",
       "       406        487          1        480        474          1          2 \n",
       "2017-12-07 2017-12-12 2017-12-15 2018-01-05 2018-01-10 2018-01-15 2018-02-12 \n",
       "         1          1        622          1          1        664          2 \n",
       "2018-02-15 2018-03-03 2018-03-04 2018-03-06 2018-03-15 2018-04-02 2018-04-15 \n",
       "       541          1          1          1        510          1        452 \n",
       "2018-05-15 2018-06-08 2018-06-15 2018-07-03 2018-07-15 2018-08-12 2018-08-15 \n",
       "       441          1        419          1        430          1        423 \n",
       "2018-09-08 2018-09-15 2018-10-15 2018-11-01 2018-11-11 2018-11-15 2018-12-08 \n",
       "         1        416        483          1          1        486          1 \n",
       "2018-12-09 2018-12-10 2018-12-15 2019-01-15 2019-02-15 2019-03-01 2019-03-04 \n",
       "         1          1        517        593        513          1          1 \n",
       "2019-03-09 2019-03-15 2019-04-15 2019-05-15 2019-06-02 2019-06-03 2019-06-07 \n",
       "         1        479        460        426          1          1          1 \n",
       "2019-06-09 2019-06-15 2019-07-06 2019-07-09 2019-07-15 2019-08-10 2019-08-15 \n",
       "         1        425          1          1        444          1        437 \n",
       "2019-09-04 2019-09-11 2019-09-15 2019-10-12 2019-10-15 2019-11-07 2019-11-15 \n",
       "         1          1        407          1        475          1        471 \n",
       "2019-12-15 2020-01-03 2020-01-04 2020-01-07 2020-01-11 2020-01-15 2020-02-15 \n",
       "       579          1          2          1          1        564        501 \n",
       "2020-03-12 2020-03-15 2020-04-02 2020-04-11 2020-04-15 2020-05-02 2020-05-05 \n",
       "         1        563          1          2        927          1          1 \n",
       "2020-05-07 2020-05-15 2020-06-07 2020-06-09 2020-06-15 2020-07-04 2020-07-05 \n",
       "         2        601          1          1        356          1          1 \n",
       "2020-07-07 2020-07-15 2020-08-02 2020-08-04 2020-08-06 2020-08-10 2020-08-11 \n",
       "         1        345          1          1          1          1          1 \n",
       "2020-08-15 2020-09-15 2020-10-01 2020-10-04 2020-10-09 2020-10-11 2020-10-15 \n",
       "       331        347          1          1          1          1        457 \n",
       "2020-11-09 2020-11-15 2020-12-12 2020-12-15 2021-01-01 2021-01-06 2021-01-07 \n",
       "         1        508          1        500          1          1          1 \n",
       "2021-01-09 2021-01-10 2021-01-15 2021-02-15 2021-03-15 2021-04-01 2021-04-03 \n",
       "         1          1        528        441        376          1          1 \n",
       "2021-04-05 2021-04-06 2021-04-15 2021-05-01 2021-05-05 2021-05-15 2021-06-15 \n",
       "         1          1        399          1          1        383        342 \n",
       "2021-07-11 2021-07-15 2021-08-07 2021-08-12 2021-08-15 2021-09-06 2021-09-07 \n",
       "         1        376          1          1        400          1          1 \n",
       "2021-09-11 2021-09-12 2021-09-15 2021-10-01 2021-10-11 2021-10-12 2021-10-15 \n",
       "         1          1        424          1          1          1        441 \n",
       "2021-11-04 2021-11-10 2021-11-11 2021-11-15 2021-12-03 2021-12-11 2021-12-12 \n",
       "         2          1          1        421          1          1          1 \n",
       "2021-12-15 2022-01-11 2022-01-15 2022-02-08 2022-02-15 2022-03-04 2022-03-15 \n",
       "       472          1        501          1        386          1        428 \n",
       "2022-04-15 2022-05-04 2022-05-05 2022-05-07 2022-05-08 2022-05-15 2022-06-02 \n",
       "       448          1          1          1          1        414          1 \n",
       "2022-06-06 2022-06-08 2022-06-15 2022-07-01 2022-07-07 2022-07-11 2022-07-15 \n",
       "         2          1        368          1          1          1        395 \n",
       "2022-08-02 2022-08-07 2022-08-12 2022-08-15 2022-09-01 2022-09-02 2022-09-04 \n",
       "         1          1          1        394          1          1          1 \n",
       "2022-09-05 2022-09-08 2022-09-10 2022-09-15 2022-10-01 2022-10-15 2022-11-01 \n",
       "         1          1          1        389          1        449          1 \n",
       "2022-11-05 2022-11-07 2022-11-10 2022-11-11 2022-11-12 2022-11-15 2022-12-05 \n",
       "         1          1          1          1          1        363          1 \n",
       "2022-12-06 2022-12-09 2022-12-15 2023-01-01 2023-01-02 2023-01-04 2023-01-15 \n",
       "         1          1        512          2          1          1        464 \n",
       "2023-02-04 2023-02-05 2023-02-10 2023-02-12 2023-02-15 2023-03-01 2023-03-04 \n",
       "         1          2          1          1        340          1          1 \n",
       "2023-03-06 2023-03-12 2023-03-15 2023-04-02 2023-04-05 2023-04-07 2023-04-12 \n",
       "         1          1        450          1          1          1          2 \n",
       "2023-04-15 2023-05-04 2023-05-05 2023-05-11 2023-05-15 2023-06-15 2023-07-02 \n",
       "       337          1          1          1        312        276          1 \n",
       "2023-07-03 2023-07-11 2023-07-15 2023-08-03 2023-08-15 2023-09-15 2023-10-15 \n",
       "         1          1        300          4        277        281        272 \n",
       "2023-11-15 \n",
       "        12 "
      ]
     },
     "metadata": {},
     "output_type": "display_data"
    },
    {
     "data": {
      "text/plain": [
       "\n",
       "2009-01-01 \n",
       "    436017 "
      ]
     },
     "metadata": {},
     "output_type": "display_data"
    },
    {
     "data": {
      "text/plain": [
       "   Min. 1st Qu.  Median    Mean 3rd Qu.    Max. \n",
       "   0.00   11.00   11.00   10.84   11.00   11.00 "
      ]
     },
     "metadata": {},
     "output_type": "display_data"
    },
    {
     "data": {
      "text/plain": [
       "\n",
       "     0      1 \n",
       "422784  13196 "
      ]
     },
     "metadata": {},
     "output_type": "display_data"
    },
    {
     "data": {
      "text/plain": [
       "Call:\n",
       "pyears(formula = Surv(time = df$time_to_dementia, event = df$dementia) ~ \n",
       "    ethnicity_variable_label_8levels, data = df, scale = 1)\n",
       "\n",
       "Total number of events: 10481 \n",
       "Total number of person-years tabulated: 3036471 \n",
       "Total number of person-years off table: 0 \n",
       "Observations in the data set: 280846 \n",
       "  (155134 observations deleted due to missingness)\n"
      ]
     },
     "metadata": {},
     "output_type": "display_data"
    },
    {
     "data": {
      "text/html": [
       "<style>\n",
       ".dl-inline {width: auto; margin:0; padding: 0}\n",
       ".dl-inline>dt, .dl-inline>dd {float: none; width: auto; display: inline-block}\n",
       ".dl-inline>dt::after {content: \":\\0020\"; padding-right: .5ex}\n",
       ".dl-inline>dt:not(:first-of-type) {padding-left: .5ex}\n",
       "</style><dl class=dl-inline><dt>Asian British: East Asian and Others</dt><dd>37</dd><dt>Asian British: South Asian</dt><dd>779</dd><dt>Black British: African</dt><dd>17</dd><dt>Black British: Caribbean and Others</dt><dd>60</dd><dt>Mixed/Multiple ethnic groups</dt><dd>84</dd><dt>Other ethnic group</dt><dd>27</dd><dt>White</dt><dd>9119</dd><dt>White: Any other White background</dt><dd>358</dd></dl>\n"
      ],
      "text/latex": [
       "\\begin{description*}\n",
       "\\item[Asian British: East Asian and Others] 37\n",
       "\\item[Asian British: South Asian] 779\n",
       "\\item[Black British: African] 17\n",
       "\\item[Black British: Caribbean and Others] 60\n",
       "\\item[Mixed/Multiple ethnic groups] 84\n",
       "\\item[Other ethnic group] 27\n",
       "\\item[White] 9119\n",
       "\\item[White: Any other White background] 358\n",
       "\\end{description*}\n"
      ],
      "text/markdown": [
       "Asian British: East Asian and Others\n",
       ":   37Asian British: South Asian\n",
       ":   779Black British: African\n",
       ":   17Black British: Caribbean and Others\n",
       ":   60Mixed/Multiple ethnic groups\n",
       ":   84Other ethnic group\n",
       ":   27White\n",
       ":   9119White: Any other White background\n",
       ":   358\n",
       "\n"
      ],
      "text/plain": [
       "ethnicity_variable_label_8levels\n",
       "Asian British: East Asian and Others           Asian British: South Asian \n",
       "                                  37                                  779 \n",
       "              Black British: African  Black British: Caribbean and Others \n",
       "                                  17                                   60 \n",
       "        Mixed/Multiple ethnic groups                   Other ethnic group \n",
       "                                  84                                   27 \n",
       "                               White    White: Any other White background \n",
       "                                9119                                  358 "
      ]
     },
     "metadata": {},
     "output_type": "display_data"
    },
    {
     "data": {
      "text/html": [
       "<style>\n",
       ".dl-inline {width: auto; margin:0; padding: 0}\n",
       ".dl-inline>dt, .dl-inline>dd {float: none; width: auto; display: inline-block}\n",
       ".dl-inline>dt::after {content: \":\\0020\"; padding-right: .5ex}\n",
       ".dl-inline>dt:not(:first-of-type) {padding-left: .5ex}\n",
       "</style><dl class=dl-inline><dt>Asian British: East Asian and Others</dt><dd>46827.4328767123</dd><dt>Asian British: South Asian</dt><dd>442258.416438356</dd><dt>Black British: African</dt><dd>28401.202739726</dd><dt>Black British: Caribbean and Others</dt><dd>23829.0136986301</dd><dt>Mixed/Multiple ethnic groups</dt><dd>43046.1397260274</dd><dt>Other ethnic group</dt><dd>44777.3671232877</dd><dt>White</dt><dd>2253178.85753425</dd><dt>White: Any other White background</dt><dd>154152.490410959</dd></dl>\n"
      ],
      "text/latex": [
       "\\begin{description*}\n",
       "\\item[Asian British: East Asian and Others] 46827.4328767123\n",
       "\\item[Asian British: South Asian] 442258.416438356\n",
       "\\item[Black British: African] 28401.202739726\n",
       "\\item[Black British: Caribbean and Others] 23829.0136986301\n",
       "\\item[Mixed/Multiple ethnic groups] 43046.1397260274\n",
       "\\item[Other ethnic group] 44777.3671232877\n",
       "\\item[White] 2253178.85753425\n",
       "\\item[White: Any other White background] 154152.490410959\n",
       "\\end{description*}\n"
      ],
      "text/markdown": [
       "Asian British: East Asian and Others\n",
       ":   46827.4328767123Asian British: South Asian\n",
       ":   442258.416438356Black British: African\n",
       ":   28401.202739726Black British: Caribbean and Others\n",
       ":   23829.0136986301Mixed/Multiple ethnic groups\n",
       ":   43046.1397260274Other ethnic group\n",
       ":   44777.3671232877White\n",
       ":   2253178.85753425White: Any other White background\n",
       ":   154152.490410959\n",
       "\n"
      ],
      "text/plain": [
       "ethnicity_variable_label_8levels\n",
       "Asian British: East Asian and Others           Asian British: South Asian \n",
       "                            46827.43                            442258.42 \n",
       "              Black British: African  Black British: Caribbean and Others \n",
       "                            28401.20                             23829.01 \n",
       "        Mixed/Multiple ethnic groups                   Other ethnic group \n",
       "                            43046.14                             44777.37 \n",
       "                               White    White: Any other White background \n",
       "                          2253178.86                            154152.49 "
      ]
     },
     "metadata": {},
     "output_type": "display_data"
    },
    {
     "data": {
      "text/html": [
       "<table class=\"dataframe\">\n",
       "<caption>A matrix: 8 × 3 of type dbl</caption>\n",
       "<thead>\n",
       "\t<tr><th></th><th scope=col>PointEst</th><th scope=col>Lower</th><th scope=col>Upper</th></tr>\n",
       "</thead>\n",
       "<tbody>\n",
       "\t<tr><th scope=row></th><td>0.0007901351</td><td>0.0005356415</td><td>0.0010446288</td></tr>\n",
       "\t<tr><th scope=row></th><td>0.0017614136</td><td>0.0016378309</td><td>0.0018849964</td></tr>\n",
       "\t<tr><th scope=row></th><td>0.0005985662</td><td>0.0003141163</td><td>0.0008830161</td></tr>\n",
       "\t<tr><th scope=row></th><td>0.0025179389</td><td>0.0018816268</td><td>0.0031542510</td></tr>\n",
       "\t<tr><th scope=row></th><td>0.0019513945</td><td>0.0015344969</td><td>0.0023682921</td></tr>\n",
       "\t<tr><th scope=row></th><td>0.0006029832</td><td>0.0003756094</td><td>0.0008303570</td></tr>\n",
       "\t<tr><th scope=row></th><td>0.0040471709</td><td>0.0039642727</td><td>0.0041300692</td></tr>\n",
       "\t<tr><th scope=row></th><td>0.0023223757</td><td>0.0020820866</td><td>0.0025626649</td></tr>\n",
       "</tbody>\n",
       "</table>\n"
      ],
      "text/latex": [
       "A matrix: 8 × 3 of type dbl\n",
       "\\begin{tabular}{r|lll}\n",
       "  & PointEst & Lower & Upper\\\\\n",
       "\\hline\n",
       "\t & 0.0007901351 & 0.0005356415 & 0.0010446288\\\\\n",
       "\t & 0.0017614136 & 0.0016378309 & 0.0018849964\\\\\n",
       "\t & 0.0005985662 & 0.0003141163 & 0.0008830161\\\\\n",
       "\t & 0.0025179389 & 0.0018816268 & 0.0031542510\\\\\n",
       "\t & 0.0019513945 & 0.0015344969 & 0.0023682921\\\\\n",
       "\t & 0.0006029832 & 0.0003756094 & 0.0008303570\\\\\n",
       "\t & 0.0040471709 & 0.0039642727 & 0.0041300692\\\\\n",
       "\t & 0.0023223757 & 0.0020820866 & 0.0025626649\\\\\n",
       "\\end{tabular}\n"
      ],
      "text/markdown": [
       "\n",
       "A matrix: 8 × 3 of type dbl\n",
       "\n",
       "| <!--/--> | PointEst | Lower | Upper |\n",
       "|---|---|---|---|\n",
       "| <!----> | 0.0007901351 | 0.0005356415 | 0.0010446288 |\n",
       "| <!----> | 0.0017614136 | 0.0016378309 | 0.0018849964 |\n",
       "| <!----> | 0.0005985662 | 0.0003141163 | 0.0008830161 |\n",
       "| <!----> | 0.0025179389 | 0.0018816268 | 0.0031542510 |\n",
       "| <!----> | 0.0019513945 | 0.0015344969 | 0.0023682921 |\n",
       "| <!----> | 0.0006029832 | 0.0003756094 | 0.0008303570 |\n",
       "| <!----> | 0.0040471709 | 0.0039642727 | 0.0041300692 |\n",
       "| <!----> | 0.0023223757 | 0.0020820866 | 0.0025626649 |\n",
       "\n"
      ],
      "text/plain": [
       " PointEst     Lower        Upper       \n",
       " 0.0007901351 0.0005356415 0.0010446288\n",
       " 0.0017614136 0.0016378309 0.0018849964\n",
       " 0.0005985662 0.0003141163 0.0008830161\n",
       " 0.0025179389 0.0018816268 0.0031542510\n",
       " 0.0019513945 0.0015344969 0.0023682921\n",
       " 0.0006029832 0.0003756094 0.0008303570\n",
       " 0.0040471709 0.0039642727 0.0041300692\n",
       " 0.0023223757 0.0020820866 0.0025626649"
      ]
     },
     "metadata": {},
     "output_type": "display_data"
    }
   ],
   "source": [
    "rm(list=ls())\n",
    "library(tidyverse)\n",
    "library(lubridate)\n",
    "library(dplyr) \n",
    "library(rio)\n",
    "library(lubridate)\n",
    "library(survival)\n",
    "library(Hmisc)\n",
    "library(survminer)\n",
    "library(survminer)\n",
    "\n",
    "data=import('0702_dementia_ten_year_2july.csv')\n",
    "print(nrow(data))\n",
    "\n",
    "data$birth_datetime<-as.Date(data$birth_datetime,format = \"%Y/%m/%d\")\n",
    "data$death_datetime<-as.Date(data$death_datetime,format = \"%Y/%m/%d\")\n",
    "data$time_start='2009-01-01'\n",
    "data$time_start=as.Date(data$time_start)\n",
    "table(data$death_datetime)\n",
    "table(data$time_start)\n",
    "\n",
    "data$dementia_variable_start_time=as.Date(data$dementia_variable_start_time,format = \"%Y/%m/%d\")\n",
    "data$time_to_dementia<-(as.numeric(data$dementia_variable_start_time)-as.numeric(data$time_start))/365\n",
    "data$time_to_dementia<-ifelse(is.na(data$time_to_dementia),11,data$time_to_dementia)\n",
    "summary(data$time_to_dementia)\n",
    "\n",
    "df=subset(data,data$time_to_dementia>0&data$time_to_dementia<=11) \n",
    "df$dementia=ifelse(is.na(df$dementia_variable_start_time),0,1)\n",
    "table(df$dementia)\n",
    "\n",
    "fit<-pyears(Surv(time = df$time_to_dementia,event = df$dementia)~ethnicity_variable_label_8levels,\n",
    "            data=df, scale=1) \n",
    "fit\n",
    "e<-fit$event\n",
    "e\n",
    "t<-fit$pyears\n",
    "t\n",
    "dt1=binconf(e,t,alpha = 0.05,method = \"asymptotic\")\n",
    "dt1"
   ]
  },
  {
   "cell_type": "code",
   "execution_count": 12,
   "id": "bb886f97-9bb4-421a-a3df-c59cfff585b9",
   "metadata": {},
   "outputs": [
    {
     "data": {
      "text/html": [
       "<style>\n",
       ".dl-inline {width: auto; margin:0; padding: 0}\n",
       ".dl-inline>dt, .dl-inline>dd {float: none; width: auto; display: inline-block}\n",
       ".dl-inline>dt::after {content: \":\\0020\"; padding-right: .5ex}\n",
       ".dl-inline>dt:not(:first-of-type) {padding-left: .5ex}\n",
       "</style><dl class=dl-inline><dt>Asian British: East Asian and Others</dt><dd>46827.4328767123</dd><dt>Asian British: South Asian</dt><dd>442258.416438356</dd><dt>Black British: African</dt><dd>28401.202739726</dd><dt>Black British: Caribbean and Others</dt><dd>23829.0136986301</dd><dt>Mixed/Multiple ethnic groups</dt><dd>43046.1397260274</dd><dt>Other ethnic group</dt><dd>44777.3671232877</dd></dl>\n"
      ],
      "text/latex": [
       "\\begin{description*}\n",
       "\\item[Asian British: East Asian and Others] 46827.4328767123\n",
       "\\item[Asian British: South Asian] 442258.416438356\n",
       "\\item[Black British: African] 28401.202739726\n",
       "\\item[Black British: Caribbean and Others] 23829.0136986301\n",
       "\\item[Mixed/Multiple ethnic groups] 43046.1397260274\n",
       "\\item[Other ethnic group] 44777.3671232877\n",
       "\\end{description*}\n"
      ],
      "text/markdown": [
       "Asian British: East Asian and Others\n",
       ":   46827.4328767123Asian British: South Asian\n",
       ":   442258.416438356Black British: African\n",
       ":   28401.202739726Black British: Caribbean and Others\n",
       ":   23829.0136986301Mixed/Multiple ethnic groups\n",
       ":   43046.1397260274Other ethnic group\n",
       ":   44777.3671232877\n",
       "\n"
      ],
      "text/plain": [
       "ethnicity_variable_label_8levels\n",
       "Asian British: East Asian and Others           Asian British: South Asian \n",
       "                            46827.43                            442258.42 \n",
       "              Black British: African  Black British: Caribbean and Others \n",
       "                            28401.20                             23829.01 \n",
       "        Mixed/Multiple ethnic groups                   Other ethnic group \n",
       "                            43046.14                             44777.37 "
      ]
     },
     "metadata": {},
     "output_type": "display_data"
    }
   ],
   "source": [
    "head(df)"
   ]
  },
  {
   "cell_type": "code",
   "execution_count": 18,
   "id": "3680e9ea-0b17-434a-8edd-96cc1e23f641",
   "metadata": {},
   "outputs": [
    {
     "data": {
      "text/plain": [
       "Call:\n",
       "coxph(formula = Surv(time_to_dementia, dementia) ~ gender_variable_value + \n",
       "    age + ethnicity_variable_value_8levels, data = df)\n",
       "\n",
       "  n= 280580, number of events= 10478 \n",
       "   (155400 observations deleted due to missingness)\n",
       "\n",
       "                                                      coef  exp(coef)\n",
       "gender_variable_value                            0.1273161  1.1357760\n",
       "age                                              0.0964687  1.1012751\n",
       "ethnicity_variable_value_8levelsOther_white     -0.2789290  0.7565936\n",
       "ethnicity_variable_value_8levelsSouth           -0.2161044  0.8056512\n",
       "ethnicity_variable_value_8levelsEast            -0.6727984  0.5102786\n",
       "ethnicity_variable_value_8levelsBlack_African   -0.5216807  0.5935222\n",
       "ethnicity_variable_value_8levelsBlack_Caribbean  0.1329533  1.1421966\n",
       "ethnicity_variable_value_8levelsMixed_ethnic    -0.2078128  0.8123591\n",
       "ethnicity_variable_value_8levelsOther_ethnic    -0.9747220  0.3772972\n",
       "                                                  se(coef)       z Pr(>|z|)    \n",
       "gender_variable_value                            0.0204104   6.238 4.44e-10 ***\n",
       "age                                              0.0007403 130.303  < 2e-16 ***\n",
       "ethnicity_variable_value_8levelsOther_white      0.0539523  -5.170 2.34e-07 ***\n",
       "ethnicity_variable_value_8levelsSouth            0.0376235  -5.744 9.25e-09 ***\n",
       "ethnicity_variable_value_8levelsEast             0.1648899  -4.080 4.50e-05 ***\n",
       "ethnicity_variable_value_8levelsBlack_African    0.2430912  -2.146   0.0319 *  \n",
       "ethnicity_variable_value_8levelsBlack_Caribbean  0.1296355   1.026   0.3051    \n",
       "ethnicity_variable_value_8levelsMixed_ethnic     0.1096787  -1.895   0.0581 .  \n",
       "ethnicity_variable_value_8levelsOther_ethnic     0.1928322  -5.055 4.31e-07 ***\n",
       "---\n",
       "Signif. codes:  0 ‘***’ 0.001 ‘**’ 0.01 ‘*’ 0.05 ‘.’ 0.1 ‘ ’ 1\n",
       "\n",
       "                                                exp(coef) exp(-coef) lower .95\n",
       "gender_variable_value                              1.1358     0.8805    1.0912\n",
       "age                                                1.1013     0.9080    1.0997\n",
       "ethnicity_variable_value_8levelsOther_white        0.7566     1.3217    0.6807\n",
       "ethnicity_variable_value_8levelsSouth              0.8057     1.2412    0.7484\n",
       "ethnicity_variable_value_8levelsEast               0.5103     1.9597    0.3694\n",
       "ethnicity_variable_value_8levelsBlack_African      0.5935     1.6849    0.3686\n",
       "ethnicity_variable_value_8levelsBlack_Caribbean    1.1422     0.8755    0.8859\n",
       "ethnicity_variable_value_8levelsMixed_ethnic       0.8124     1.2310    0.6552\n",
       "ethnicity_variable_value_8levelsOther_ethnic       0.3773     2.6504    0.2585\n",
       "                                                upper .95\n",
       "gender_variable_value                              1.1821\n",
       "age                                                1.1029\n",
       "ethnicity_variable_value_8levelsOther_white        0.8410\n",
       "ethnicity_variable_value_8levelsSouth              0.8673\n",
       "ethnicity_variable_value_8levelsEast               0.7050\n",
       "ethnicity_variable_value_8levelsBlack_African      0.9558\n",
       "ethnicity_variable_value_8levelsBlack_Caribbean    1.4726\n",
       "ethnicity_variable_value_8levelsMixed_ethnic       1.0072\n",
       "ethnicity_variable_value_8levelsOther_ethnic       0.5506\n",
       "\n",
       "Concordance= 0.881  (se = 0.001 )\n",
       "Likelihood ratio test= 20694  on 9 df,   p=<2e-16\n",
       "Wald test            = 18497  on 9 df,   p=<2e-16\n",
       "Score (logrank) test = 26627  on 9 df,   p=<2e-16\n"
      ]
     },
     "metadata": {},
     "output_type": "display_data"
    }
   ],
   "source": [
    "df$ethnicity_variable_value_8levels=factor(df$ethnicity_variable_value_8levels,levels = c(1,2,3,4,5,6,7,8),\n",
    "                                           labels = c('White','Other_white','South','East','Black_African','Black_Caribbean','Mixed_ethnic',\n",
    "                                                      'Other_ethnic'))\n",
    "\n",
    "cox_model <- coxph(Surv(time_to_dementia, dementia) ~ gender_variable_value + age + ethnicity_variable_value_8levels, data = df)\n",
    "summary(cox_model)"
   ]
  },
  {
   "cell_type": "code",
   "execution_count": 15,
   "id": "4498de7e-f19f-4570-8de4-3583cdeab7b2",
   "metadata": {},
   "outputs": [
    {
     "data": {
      "image/png": "[encoded data removed]",
      "text/plain": [
       "Plot with title “Survival Curves by Ethnicity”"
      ]
     },
     "metadata": {
      "image/png": {
       "height": 420,
       "width": 420
      }
     },
     "output_type": "display_data"
    }
   ],
   "source": [
    "#unadjusted\n",
    "plot(fit, col = c(\"blue\", \"red\", \"green\", \"purple\", \"orange\", \"brown\", \"pink\", \"black\"), \n",
    "     xlab = \"Time to Dementia\", \n",
    "     ylab = \"Survival Probability\", \n",
    "     main = \"Survival Curves by Ethnicity\",\n",
    "     lwd = 2)"
   ]
  },
  {
   "cell_type": "code",
   "execution_count": 23,
   "id": "d60ca5f0-7cff-45e4-862a-e8f31a3911da",
   "metadata": {},
   "outputs": [
    {
     "ename": "ERROR",
     "evalue": "Error: cannot allocate vector of size 6.2 Gb\n",
     "output_type": "error",
     "traceback": [
      "Error: cannot allocate vector of size 6.2 Gb\nTraceback:\n",
      "1. ggadjustedcurves(fit, data = df, conf.int = F, variable = \"ethnicity_variable_value_8levels\", \n .     method = \"average\", xlab = \"time\", palette = \"aaas\")",
      "2. surv_adjustedcurves(fit = fit, variable = variable, data = data, \n .     reference = reference, method = method, size = size, ...)",
      "3. ggadjustedcurves.average(data, fit, variable, size = size)",
      "4. survexp(as.formula(paste(\"~\", variable)), data = data, ratetable = fit)",
      "5. survexp.cfit(as.numeric(X), rdata, Y, method, ratetable, weights)",
      "6. survfit.coxph(coxfit, newdata = ndata, se.fit = FALSE, censor = FALSE)",
      "7. coxsurv.fit(ctype, stype, se.fit, varmat, cluster, Y, X, weights, \n .     risk, position, strata, oldid, y2, x2, risk2)",
      "8. lapply(survlist, expand, x2, varmat, se.fit)",
      "9. FUN(X[[i]], ...)",
      "10. outer(surv, risk2, \"^\")"
     ]
    }
   ],
   "source": [
    "ggadjustedcurves(fit, \n",
    "                    data = df, \n",
    "                    conf.int=F,\n",
    "                    variable = \"ethnicity_variable_value_8levels\",\n",
    "                    method = \"average\",xlab='time',\n",
    "                    palette = \"aaas\")"
   ]
  },
  {
   "cell_type": "code",
   "execution_count": null,
   "id": "82aaf3f9-0a0b-4b3c-9560-d45b831dfb25",
   "metadata": {},
   "outputs": [],
   "source": []
  }
 ],
 "metadata": {
  "environment": {
   "kernel": "ir",
   "name": "r-cpu.m125",
   "type": "gcloud",
   "uri": "us-docker.pkg.dev/deeplearning-platform-release/gcr.io/r-cpu:m125"
  },
  "kernelspec": {
   "display_name": "R (Local)",
   "language": "R",
   "name": "ir"
  },
  "language_info": {
   "codemirror_mode": "r",
   "file_extension": ".r",
   "mimetype": "text/x-r-source",
   "name": "R",
   "pygments_lexer": "r",
   "version": "4.4.1"
  }
 },
 "nbformat": 4,
 "nbformat_minor": 5
}
