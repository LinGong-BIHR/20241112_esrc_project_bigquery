{
 "cells": [
  {
   "cell_type": "code",
   "execution_count": null,
   "id": "50327af5-ee72-4caa-b085-44246c5c2a71",
   "metadata": {},
   "outputs": [],
   "source": [
    "version 9 data update on 2 Feb 2024"
   ]
  },
  {
   "cell_type": "code",
   "execution_count": null,
   "id": "e8f5d40b-501e-4517-b672-71a4c59661d9",
   "metadata": {},
   "outputs": [],
   "source": [
    "#population with 10 years dementia diagnosis\n",
    "Create table `yhcr-prd-phm-bia-core.CB_MYSPACE_LG.0202_total` as\n",
    "    SELECT distinct person_id,gender_source_value, birth_datetime, death_datetime,ethnicity_concept_id,  \n",
    "    DATETIME_DIFF( '2009-01-01', birth_datetime, DAY)/365 as age\n",
    "    FROM `yhcr-prd-phm-bia-core.CB_FDM_PrimaryCare_V9.person` \n",
    "WHERE DATETIME_DIFF( '2009-01-01', birth_datetime, DAY)/365 >=45\n",
    "\n",
    "\n",
    "\n",
    "\n",
    "\n",
    "\n",
    "\n",
    "\n",
    "\n",
    "\n",
    "\n",
    "\n",
    "\n",
    "\n",
    "\n",
    "\n",
    "DELETE FROM `yhcr-prd-phm-bia-core.CB_MYSPACE_LG.0202_total` WHERE death_datetime< '2009-01-01'\n",
    "\n",
    "\n",
    "\n",
    "\n",
    "\n",
    "\n",
    "\n",
    "\n",
    "\n",
    "\n",
    "\n",
    "\n",
    "\n",
    "CREATE TABLE `yhcr-prd-phm-bia-core.CB_MYSPACE_LG.0202_total_impute`\n",
    "as SELECT a.*, b.recode_ethnicity_concept_id\n",
    "FROM `yhcr-prd-phm-bia-core.CB_MYSPACE_LG.0202_total` a Left Join  `yhcr-prd-phm-bia-core.CB_MYSPACE_LG.impute_ethnicity_1220` b\n",
    "ON a.person_id=b.person_id\n",
    "\n",
    "UPDATE `yhcr-prd-phm-bia-core.CB_MYSPACE_LG.0202_total_impute`\n",
    "SET ethnicity_concept_id = recode_ethnicity_concept_id\n",
    "WHERE ethnicity_concept_id = 8552\n",
    "\n",
    "CREATE TABLE `yhcr-prd-phm-bia-core.CB_MYSPACE_LG.0202_total_impute_clean` as \n",
    "SELECT a.*\n",
    ", b.gender_variable_value\n",
    ", b.gender_variable_label\n",
    ", c.ethnicity_variable_value_8levels\n",
    ", c.ethnicity_variable_label_8levels\n",
    ", d.dementia_variable_value\n",
    ", d.dementia_variable_start_time\n",
    "FROM `yhcr-prd-phm-bia-core.CB_MYSPACE_LG.0202_total_impute` as a \n",
    "LEFT join `yhcr-prd-phm-bia-core.CB_MYSPACE_LG.clean_gender` as b on a.gender_source_value = b.gender_source_value \n",
    "LEFT join `yhcr-prd-phm-bia-core.CB_MYSPACE_LG.clean_ethnic_1220` as c on a.ethnicity_concept_id = c.concept_id\n",
    "left join  `yhcr-prd-phm-bia-core.CB_MYSPACE_LG.0202_dementia_10yrs` as d on a.person_id = d.person_id\n",
    "\n",
    "#update dementia\n",
    "Create table `yhcr-prd-phm-bia-core.CB_MYSPACE_LG.0218_total_dementia` as\n",
    "Select distinct a.*\n",
    "  , b.dementia_variable_start_time\n",
    "  , b.dementia_variable_value\n",
    "  from `yhcr-prd-phm-bia-core.CB_MYSPACE_LG.02_total_10yrs_over45` a\n",
    "LEFT JOIN `yhcr-prd-phm-bia-core.CB_MYSPACE_LG.0218_dementia_10yrs` b\n",
    "on a.person_id  = b.person_id\n",
    "\n",
    "CREATE TABLE `yhcr-prd-phm-bia-core.CB_MYSPACE_LG.0202_total_impute_clean_age_index` as\n",
    "Select distinct a.*\n",
    "  , c.Lsoa\n",
    "  , max(Index_of_Multiple_Deprivation_Decile)\n",
    "  from `yhcr-prd-phm-bia-core.CB_MYSPACE_LG.0202_total_impute_clean_death_age` a\n",
    "left join `yhcr-prd-phm-bia-core.CB_LOOKUPS.tbl_person_lsoa` as c \n",
    "on a.person_id = c.person_id\n",
    "left join `yhcr-prd-phm-bia-core.CB_LOOKUPS.tbl_IMD_by_LSOA` as d \n",
    "on c.lsoa = d.LSOA_code\n",
    "\n",
    "CREATE TABLE `yhcr-prd-phm-bia-core.CB_MYSPACE_LG.pj1_ten_year_completed` as\n",
    "Select person_id, birth_datetime, death_datetime, ethnicity_concept_id, age, recode_ethnicity_concept_id, \n",
    "gender_variable_value, gender_variable_label, ethnicity_variable_value_8levels, ethnicity_variable_label_8levels, \n",
    "dementia_variable_value, dementia_variable_start_time, max(imd_max) max_index\n",
    "FROM `yhcr-prd-phm-bia-core.CB_MYSPACE_LG.pj1_ten_year_impute_index`\n",
    "GROUP BY person_id, birth_datetime, death_datetime, ethnicity_concept_id, age, recode_ethnicity_concept_id, \n",
    "gender_variable_value, gender_variable_label, ethnicity_variable_value_8levels, ethnicity_variable_label_8levels, \n",
    "dementia_variable_value, dementia_variable_start_time"
   ]
  },
  {
   "cell_type": "code",
   "execution_count": 1,
   "id": "220f3621-97a0-4862-996a-a7d680cc6978",
   "metadata": {},
   "outputs": [
    {
     "name": "stderr",
     "output_type": "stream",
     "text": [
      "── \u001b[1mAttaching core tidyverse packages\u001b[22m ──────────────────────── tidyverse 2.0.0 ──\n",
      "\u001b[32m✔\u001b[39m \u001b[34mdplyr    \u001b[39m 1.1.3     \u001b[32m✔\u001b[39m \u001b[34mreadr    \u001b[39m 2.1.4\n",
      "\u001b[32m✔\u001b[39m \u001b[34mforcats  \u001b[39m 1.0.0     \u001b[32m✔\u001b[39m \u001b[34mstringr  \u001b[39m 1.5.0\n",
      "\u001b[32m✔\u001b[39m \u001b[34mggplot2  \u001b[39m 3.4.3     \u001b[32m✔\u001b[39m \u001b[34mtibble   \u001b[39m 3.2.1\n",
      "\u001b[32m✔\u001b[39m \u001b[34mlubridate\u001b[39m 1.9.2     \u001b[32m✔\u001b[39m \u001b[34mtidyr    \u001b[39m 1.3.0\n",
      "\u001b[32m✔\u001b[39m \u001b[34mpurrr    \u001b[39m 1.0.2     \n",
      "── \u001b[1mConflicts\u001b[22m ────────────────────────────────────────── tidyverse_conflicts() ──\n",
      "\u001b[31m✖\u001b[39m \u001b[34mdplyr\u001b[39m::\u001b[32mfilter()\u001b[39m masks \u001b[34mstats\u001b[39m::filter()\n",
      "\u001b[31m✖\u001b[39m \u001b[34mdplyr\u001b[39m::\u001b[32mlag()\u001b[39m    masks \u001b[34mstats\u001b[39m::lag()\n",
      "\u001b[36mℹ\u001b[39m Use the conflicted package (\u001b[3m\u001b[34m<http://conflicted.r-lib.org/>\u001b[39m\u001b[23m) to force all conflicts to become errors\n"
     ]
    },
    {
     "name": "stdout",
     "output_type": "stream",
     "text": [
      "[1] \"CB_FDM_PrimaryCare_V9\"\n"
     ]
    }
   ],
   "source": [
    "rm(list=ls())\n",
    "library(bigrquery)\n",
    "library(tidyverse)\n",
    "bq_auth()\n",
    "\n",
    "project <- \"yhcr-prd-phm-bia-core\"\n",
    "project_id <- \"yhcr-prd-phm-bia-core\"\n",
    "source_dataset_pri <-'CB_FDM_PrimaryCare_V9'\n",
    "source_dataset_pri <-gsub(' ','',source_dataset_pri)\n",
    "\n",
    "print (source_dataset_pri)\n",
    "target_dataset <- \"CB_MYSPACE_LG\"\n",
    "\n",
    "sql_query <- \"SELECT * FROM  `yhcr-prd-phm-bia-core.CB_MYSPACE_LG.0218_total_dementia`\"\n",
    "my_query <- bq_project_query(project_id, sql_query)\n",
    "table <- bq_table_download(my_query)\n",
    "write.csv(table, '0218_total.csv')"
   ]
  },
  {
   "cell_type": "code",
   "execution_count": 2,
   "id": "fa6f6b1f-bb43-48e1-8c28-404ed2893155",
   "metadata": {},
   "outputs": [
    {
     "name": "stderr",
     "output_type": "stream",
     "text": [
      "\n",
      "Attaching package: ‘Hmisc’\n",
      "\n",
      "\n",
      "The following objects are masked from ‘package:dplyr’:\n",
      "\n",
      "    src, summarize\n",
      "\n",
      "\n",
      "The following objects are masked from ‘package:base’:\n",
      "\n",
      "    format.pval, units\n",
      "\n",
      "\n"
     ]
    },
    {
     "name": "stdout",
     "output_type": "stream",
     "text": [
      "[1] 289218\n"
     ]
    }
   ],
   "source": [
    "rm(list=ls())\n",
    "library(tidyverse)\n",
    "library(lubridate)\n",
    "library(dplyr) \n",
    "library(rio)\n",
    "library(lubridate)\n",
    "library(survival)\n",
    "library(Hmisc)\n",
    "\n",
    "data=import('total_10yrs_index_ages.csv')\n",
    "print(nrow(data))"
   ]
  },
  {
   "cell_type": "code",
   "execution_count": 3,
   "id": "fe7d2090-39d2-499b-9ff7-409fef019f83",
   "metadata": {},
   "outputs": [
    {
     "data": {
      "text/plain": [
       "\n",
       "2009-01-15 2009-02-15 2009-03-15 2009-04-15 2009-05-15 2009-06-15 2009-07-15 \n",
       "       494        403        421        401        408        411        364 \n",
       "2009-08-15 2009-09-15 2009-10-15 2009-11-15 2009-12-15 2010-01-15 2010-02-15 \n",
       "       402        377        447        420        450        513        385 \n",
       "2010-03-15 2010-04-15 2010-05-15 2010-06-15 2010-07-15 2010-08-15 2010-09-15 \n",
       "       457        407        402        386        358        413        388 \n",
       "2010-10-15 2010-11-15 2010-12-15 2011-01-15 2011-02-15 2011-03-15 2011-04-15 \n",
       "       423        450        533        514        404        463        399 \n",
       "2011-05-15 2011-06-15 2011-07-15 2011-08-15 2011-09-15 2011-10-15 2011-11-15 \n",
       "       416        381        420        356        415        415        401 \n",
       "2011-12-15 2012-01-15 2012-02-15 2012-03-15 2012-04-15 2012-05-15 2012-06-15 \n",
       "       505        522        504        439        447        431        402 \n",
       "2012-07-15 2012-08-15 2012-09-15 2012-10-15 2012-11-15 2012-12-15 2013-01-15 \n",
       "       388        340        413        412        429        462        559 \n",
       "2013-02-15 2013-03-15 2013-04-07 2013-04-15 2013-05-07 2013-05-08 2013-05-15 \n",
       "       473        564          1        482          1          1        436 \n",
       "2013-06-08 2013-06-10 2013-06-15 2013-07-02 2013-07-15 2013-08-15 2013-09-15 \n",
       "         1          2        396          1        377        385        414 \n",
       "2013-10-15 2013-11-15 2013-12-08 2013-12-10 2013-12-15 2014-01-11 2014-01-15 \n",
       "       425        419          1          1        465          1        460 \n",
       "2014-02-02 2014-02-15 2014-03-03 2014-03-07 2014-03-15 2014-04-15 2014-05-02 \n",
       "         1        449          1          1        438        432          1 \n",
       "2014-05-15 2014-06-02 2014-06-09 2014-06-15 2014-07-15 2014-08-15 2014-09-15 \n",
       "       391          1          1        352        391        401        416 \n",
       "2014-10-03 2014-10-08 2014-10-11 2014-10-15 2014-11-12 2014-11-15 2014-12-02 \n",
       "         1          1          1        489          1        420          1 \n",
       "2014-12-09 2014-12-15 2015-01-15 2015-02-15 2015-03-15 2015-04-01 2015-04-09 \n",
       "         2        617        581        464        501          1          1 \n",
       "2015-04-15 2015-05-07 2015-05-15 2015-06-10 2015-06-15 2015-07-03 2015-07-15 \n",
       "       446          2        456          1        407          1        389 \n",
       "2015-08-15 2015-09-07 2015-09-15 2015-10-06 2015-10-15 2015-11-15 2015-12-10 \n",
       "       419          1        399          1        439        434          1 \n",
       "2015-12-15 2016-01-15 2016-02-15 2016-03-02 2016-03-09 2016-03-10 2016-03-15 \n",
       "       491        541        482          1          1          1        514 \n",
       "2016-04-15 2016-05-03 2016-05-15 2016-06-15 2016-07-01 2016-07-15 2016-08-03 \n",
       "       479          1        455        420          1        475          1 \n",
       "2016-08-15 2016-09-15 2016-10-15 2016-11-08 2016-11-15 2016-12-04 2016-12-15 \n",
       "       406        404        451          1        473          1        513 \n",
       "2017-01-04 2017-01-15 2017-02-02 2017-02-15 2017-03-03 2017-03-04 2017-03-15 \n",
       "         1        554          1        432          1          1        458 \n",
       "2017-04-15 2017-05-15 2017-06-07 2017-06-10 2017-06-15 2017-07-07 2017-07-11 \n",
       "       414        435          1          1        433          1          1 \n",
       "2017-07-15 2017-08-01 2017-08-08 2017-08-09 2017-08-15 2017-09-15 2017-10-15 \n",
       "       412          1          1          1        383        466        462 \n",
       "2017-11-15 2017-12-03 2017-12-04 2017-12-07 2017-12-12 2017-12-15 2018-01-05 \n",
       "       455          1          1          1          1        603          1 \n",
       "2018-01-10 2018-01-15 2018-02-12 2018-02-15 2018-03-03 2018-03-04 2018-03-06 \n",
       "         1        638          2        524          1          1          1 \n",
       "2018-03-15 2018-04-02 2018-04-15 2018-05-15 2018-06-08 2018-06-15 2018-07-03 \n",
       "       476          1        425        414          1        396          1 \n",
       "2018-07-15 2018-08-15 2018-09-08 2018-09-15 2018-10-15 2018-11-01 2018-11-11 \n",
       "       389        403          1        395        451          1          1 \n",
       "2018-11-15 2018-12-08 2018-12-10 2018-12-15 2019-01-15 2019-02-15 2019-03-01 \n",
       "       463          1          1        490        560        488          1 \n",
       "2019-03-09 2019-03-15 2019-04-15 2019-05-15 2019-06-02 2019-06-03 2019-06-07 \n",
       "         1        453        427        405          1          1          1 \n",
       "2019-06-09 2019-06-15 2019-07-09 2019-07-15 2019-08-10 2019-08-15 2019-09-04 \n",
       "         1        396          1        416          1        410          1 \n",
       "2019-09-11 2019-09-15 2019-10-12 2019-10-15 2019-11-07 2019-11-15 2019-12-15 \n",
       "         1        384          1        447          1        445        545 \n",
       "2020-01-03 2020-01-04 2020-01-07 2020-01-11 2020-01-15 2020-02-15 2020-03-12 \n",
       "         1          2          1          2        546        471          1 \n",
       "2020-03-15 2020-04-02 2020-04-11 2020-04-15 2020-05-02 2020-05-05 2020-05-07 \n",
       "       531          1          2        881          1          1          2 \n",
       "2020-05-15 2020-06-07 2020-06-09 2020-06-15 2020-07-04 2020-07-05 2020-07-15 \n",
       "       568          1          1        323          1          1        320 \n",
       "2020-08-02 2020-08-04 2020-08-06 2020-08-10 2020-08-11 2020-08-15 2020-09-15 \n",
       "         1          1          1          1          1        305        326 \n",
       "2020-10-01 2020-10-09 2020-10-15 2020-11-09 2020-11-15 2020-12-12 2020-12-15 \n",
       "         1          1        425          1        470          1        471 \n",
       "2021-01-06 2021-01-07 2021-01-09 2021-01-10 2021-01-15 2021-02-15 2021-03-15 \n",
       "         1          1          1          1        490        411        349 \n",
       "2021-04-01 2021-04-03 2021-04-05 2021-04-06 2021-04-15 2021-05-01 2021-05-15 \n",
       "         1          1          1          1        375          1        361 \n",
       "2021-06-15 2021-07-11 2021-07-15 2021-08-07 2021-08-12 2021-08-15 2021-09-07 \n",
       "       312          1        353          1          1        368          1 \n",
       "2021-09-11 2021-09-12 2021-09-15 2021-10-01 2021-10-11 2021-10-12 2021-10-15 \n",
       "         1          1        389          1          1          1        401 \n",
       "2021-11-04 2021-11-10 2021-11-11 2021-11-15 2021-12-03 2021-12-11 2021-12-12 \n",
       "         2          1          1        394          1          1          1 \n",
       "2021-12-15 2022-01-11 2022-01-15 2022-02-08 2022-02-15 2022-03-04 2022-03-15 \n",
       "       441          1        466          1        363          1        402 \n",
       "2022-04-15 2022-05-04 2022-05-05 2022-05-07 2022-05-08 2022-05-15 2022-06-02 \n",
       "       422          1          1          1          1        372          1 \n",
       "2022-06-06 2022-06-08 2022-06-15 2022-07-01 2022-07-07 2022-07-15 2022-08-02 \n",
       "         2          1        338          1          1        365          1 \n",
       "2022-08-07 2022-08-12 2022-08-15 2022-09-01 2022-09-02 2022-09-04 2022-09-05 \n",
       "         1          1        364          1          1          1          1 \n",
       "2022-09-08 2022-09-10 2022-09-15 2022-10-01 2022-10-15 2022-11-01 2022-11-05 \n",
       "         1          1        352          1        432          1          1 \n",
       "2022-11-07 2022-11-10 2022-11-11 2022-11-12 2022-11-15 2022-12-05 2022-12-06 \n",
       "         1          1          1          1        326          1          1 \n",
       "2022-12-09 2022-12-15 2023-01-01 2023-01-02 2023-01-04 2023-01-15 2023-02-04 \n",
       "         1        483          1          1          1        435          1 \n",
       "2023-02-05 2023-02-10 2023-02-12 2023-02-15 2023-03-01 2023-03-04 2023-03-06 \n",
       "         2          1          1        317          1          1          1 \n",
       "2023-03-12 2023-03-15 2023-04-02 2023-04-05 2023-04-07 2023-04-12 2023-04-15 \n",
       "         1        424          1          1          1          2        310 \n",
       "2023-05-04 2023-05-05 2023-05-11 2023-05-15 2023-06-15 2023-07-02 2023-07-03 \n",
       "         1          1          1        285        245          1          1 \n",
       "2023-07-11 2023-07-15 2023-08-03 2023-08-15 2023-09-15 2023-10-15 2023-11-15 \n",
       "         1        274          4        256        256        298        322 \n",
       "2023-12-15 2024-01-15 \n",
       "       305         21 "
      ]
     },
     "metadata": {},
     "output_type": "display_data"
    },
    {
     "data": {
      "text/plain": [
       "\n",
       "2009-01-01 \n",
       "    289218 "
      ]
     },
     "metadata": {},
     "output_type": "display_data"
    },
    {
     "data": {
      "text/plain": [
       "   Min. 1st Qu.  Median    Mean 3rd Qu.    Max. \n",
       "  0.000  10.000  10.000   9.061  10.000  11.003 "
      ]
     },
     "metadata": {},
     "output_type": "display_data"
    },
    {
     "data": {
      "text/plain": [
       "\n",
       "     0      1 \n",
       "230017  58017 "
      ]
     },
     "metadata": {},
     "output_type": "display_data"
    },
    {
     "data": {
      "text/plain": [
       "Call:\n",
       "pyears(formula = Surv(time = df$time_to_dementia, event = df$dementia) ~ \n",
       "    ethnicity_variable_label_8levels, data = df, scale = 1)\n",
       "\n",
       "Total number of events: 49791 \n",
       "Total number of person-years tabulated: 1766919 \n",
       "Total number of person-years off table: 0 \n",
       "Observations in the data set: 199818 \n",
       "  (88216 observations deleted due to missingness)\n"
      ]
     },
     "metadata": {},
     "output_type": "display_data"
    },
    {
     "data": {
      "text/html": [
       "<style>\n",
       ".dl-inline {width: auto; margin:0; padding: 0}\n",
       ".dl-inline>dt, .dl-inline>dd {float: none; width: auto; display: inline-block}\n",
       ".dl-inline>dt::after {content: \":\\0020\"; padding-right: .5ex}\n",
       ".dl-inline>dt:not(:first-of-type) {padding-left: .5ex}\n",
       "</style><dl class=dl-inline><dt>Asian British: East Asian and Others</dt><dd>337</dd><dt>Asian British: South Asian</dt><dd>7335</dd><dt>Black British: African</dt><dd>96</dd><dt>Black British: Caribbean and Others</dt><dd>334</dd><dt>Mixed/Multiple ethnic groups</dt><dd>512</dd><dt>Other ethnic group</dt><dd>198</dd><dt>White</dt><dd>39563</dd><dt>White: Any other White background</dt><dd>1416</dd></dl>\n"
      ],
      "text/latex": [
       "\\begin{description*}\n",
       "\\item[Asian British: East Asian and Others] 337\n",
       "\\item[Asian British: South Asian] 7335\n",
       "\\item[Black British: African] 96\n",
       "\\item[Black British: Caribbean and Others] 334\n",
       "\\item[Mixed/Multiple ethnic groups] 512\n",
       "\\item[Other ethnic group] 198\n",
       "\\item[White] 39563\n",
       "\\item[White: Any other White background] 1416\n",
       "\\end{description*}\n"
      ],
      "text/markdown": [
       "Asian British: East Asian and Others\n",
       ":   337Asian British: South Asian\n",
       ":   7335Black British: African\n",
       ":   96Black British: Caribbean and Others\n",
       ":   334Mixed/Multiple ethnic groups\n",
       ":   512Other ethnic group\n",
       ":   198White\n",
       ":   39563White: Any other White background\n",
       ":   1416\n",
       "\n"
      ],
      "text/plain": [
       "ethnicity_variable_label_8levels\n",
       "Asian British: East Asian and Others           Asian British: South Asian \n",
       "                                 337                                 7335 \n",
       "              Black British: African  Black British: Caribbean and Others \n",
       "                                  96                                  334 \n",
       "        Mixed/Multiple ethnic groups                   Other ethnic group \n",
       "                                 512                                  198 \n",
       "                               White    White: Any other White background \n",
       "                               39563                                 1416 "
      ]
     },
     "metadata": {},
     "output_type": "display_data"
    },
    {
     "data": {
      "text/html": [
       "<style>\n",
       ".dl-inline {width: auto; margin:0; padding: 0}\n",
       ".dl-inline>dt, .dl-inline>dd {float: none; width: auto; display: inline-block}\n",
       ".dl-inline>dt::after {content: \":\\0020\"; padding-right: .5ex}\n",
       ".dl-inline>dt:not(:first-of-type) {padding-left: .5ex}\n",
       "</style><dl class=dl-inline><dt>Asian British: East Asian and Others</dt><dd>18117.3753424658</dd><dt>Asian British: South Asian</dt><dd>195246.216438354</dd><dt>Black British: African</dt><dd>8750.35068493151</dd><dt>Black British: Caribbean and Others</dt><dd>11516.701369863</dd><dt>Mixed/Multiple ethnic groups</dt><dd>23753.7424657534</dd><dt>Other ethnic group</dt><dd>16397.9945205479</dd><dt>White</dt><dd>1419834.69589039</dd><dt>White: Any other White background</dt><dd>73302.0547945204</dd></dl>\n"
      ],
      "text/latex": [
       "\\begin{description*}\n",
       "\\item[Asian British: East Asian and Others] 18117.3753424658\n",
       "\\item[Asian British: South Asian] 195246.216438354\n",
       "\\item[Black British: African] 8750.35068493151\n",
       "\\item[Black British: Caribbean and Others] 11516.701369863\n",
       "\\item[Mixed/Multiple ethnic groups] 23753.7424657534\n",
       "\\item[Other ethnic group] 16397.9945205479\n",
       "\\item[White] 1419834.69589039\n",
       "\\item[White: Any other White background] 73302.0547945204\n",
       "\\end{description*}\n"
      ],
      "text/markdown": [
       "Asian British: East Asian and Others\n",
       ":   18117.3753424658Asian British: South Asian\n",
       ":   195246.216438354Black British: African\n",
       ":   8750.35068493151Black British: Caribbean and Others\n",
       ":   11516.701369863Mixed/Multiple ethnic groups\n",
       ":   23753.7424657534Other ethnic group\n",
       ":   16397.9945205479White\n",
       ":   1419834.69589039White: Any other White background\n",
       ":   73302.0547945204\n",
       "\n"
      ],
      "text/plain": [
       "ethnicity_variable_label_8levels\n",
       "Asian British: East Asian and Others           Asian British: South Asian \n",
       "                           18117.375                           195246.216 \n",
       "              Black British: African  Black British: Caribbean and Others \n",
       "                            8750.351                            11516.701 \n",
       "        Mixed/Multiple ethnic groups                   Other ethnic group \n",
       "                           23753.742                            16397.995 \n",
       "                               White    White: Any other White background \n",
       "                         1419834.696                            73302.055 "
      ]
     },
     "metadata": {},
     "output_type": "display_data"
    },
    {
     "data": {
      "text/html": [
       "<table class=\"dataframe\">\n",
       "<caption>A matrix: 8 × 3 of type dbl</caption>\n",
       "<thead>\n",
       "\t<tr><th></th><th scope=col>PointEst</th><th scope=col>Lower</th><th scope=col>Upper</th></tr>\n",
       "</thead>\n",
       "<tbody>\n",
       "\t<tr><th scope=row></th><td>0.01860093</td><td>0.016633538</td><td>0.02056832</td></tr>\n",
       "\t<tr><th scope=row></th><td>0.03756795</td><td>0.036724517</td><td>0.03841138</td></tr>\n",
       "\t<tr><th scope=row></th><td>0.01097099</td><td>0.008788446</td><td>0.01315353</td></tr>\n",
       "\t<tr><th scope=row></th><td>0.02900136</td><td>0.025936557</td><td>0.03206616</td></tr>\n",
       "\t<tr><th scope=row></th><td>0.02155450</td><td>0.019707700</td><td>0.02340130</td></tr>\n",
       "\t<tr><th scope=row></th><td>0.01207465</td><td>0.010402972</td><td>0.01374632</td></tr>\n",
       "\t<tr><th scope=row></th><td>0.02786451</td><td>0.027593793</td><td>0.02813523</td></tr>\n",
       "\t<tr><th scope=row></th><td>0.01931733</td><td>0.018320944</td><td>0.02031372</td></tr>\n",
       "</tbody>\n",
       "</table>\n"
      ],
      "text/latex": [
       "A matrix: 8 × 3 of type dbl\n",
       "\\begin{tabular}{r|lll}\n",
       "  & PointEst & Lower & Upper\\\\\n",
       "\\hline\n",
       "\t & 0.01860093 & 0.016633538 & 0.02056832\\\\\n",
       "\t & 0.03756795 & 0.036724517 & 0.03841138\\\\\n",
       "\t & 0.01097099 & 0.008788446 & 0.01315353\\\\\n",
       "\t & 0.02900136 & 0.025936557 & 0.03206616\\\\\n",
       "\t & 0.02155450 & 0.019707700 & 0.02340130\\\\\n",
       "\t & 0.01207465 & 0.010402972 & 0.01374632\\\\\n",
       "\t & 0.02786451 & 0.027593793 & 0.02813523\\\\\n",
       "\t & 0.01931733 & 0.018320944 & 0.02031372\\\\\n",
       "\\end{tabular}\n"
      ],
      "text/markdown": [
       "\n",
       "A matrix: 8 × 3 of type dbl\n",
       "\n",
       "| <!--/--> | PointEst | Lower | Upper |\n",
       "|---|---|---|---|\n",
       "| <!----> | 0.01860093 | 0.016633538 | 0.02056832 |\n",
       "| <!----> | 0.03756795 | 0.036724517 | 0.03841138 |\n",
       "| <!----> | 0.01097099 | 0.008788446 | 0.01315353 |\n",
       "| <!----> | 0.02900136 | 0.025936557 | 0.03206616 |\n",
       "| <!----> | 0.02155450 | 0.019707700 | 0.02340130 |\n",
       "| <!----> | 0.01207465 | 0.010402972 | 0.01374632 |\n",
       "| <!----> | 0.02786451 | 0.027593793 | 0.02813523 |\n",
       "| <!----> | 0.01931733 | 0.018320944 | 0.02031372 |\n",
       "\n"
      ],
      "text/plain": [
       " PointEst   Lower       Upper     \n",
       " 0.01860093 0.016633538 0.02056832\n",
       " 0.03756795 0.036724517 0.03841138\n",
       " 0.01097099 0.008788446 0.01315353\n",
       " 0.02900136 0.025936557 0.03206616\n",
       " 0.02155450 0.019707700 0.02340130\n",
       " 0.01207465 0.010402972 0.01374632\n",
       " 0.02786451 0.027593793 0.02813523\n",
       " 0.01931733 0.018320944 0.02031372"
      ]
     },
     "metadata": {},
     "output_type": "display_data"
    }
   ],
   "source": [
    "data$birth_datetime<-as.Date(data$birth_datetime,format = \"%m/%d/%Y\")\n",
    "data$death_datetime<-as.Date(data$death_datetime,format = \"%m/%d/%Y\")\n",
    "data$time_start='2009-01-01'\n",
    "data$time_start=as.Date(data$time_start)\n",
    "table(data$death_datetime)\n",
    "table(data$time_start)\n",
    "\n",
    "data$dementia_variable_start_time=as.Date(data$dementia_variable_start_time,format = \"%m/%d/%Y\")\n",
    "data$time_to_dementia<-(as.numeric(data$dementia_variable_start_time)-as.numeric(data$time_start))/365\n",
    "data$time_to_dementia<-ifelse(is.na(data$time_to_dementia),10,data$time_to_dementia)\n",
    "summary(data$time_to_dementia)\n",
    "\n",
    "df=subset(data,data$time_to_dementia>0&data$time_to_dementia<=10) \n",
    "df$dementia=ifelse(is.na(df$dementia_variable_start_time),0,1)\n",
    "table(df$dementia)\n",
    "fit<-pyears(Surv(time = df$time_to_dementia,event = df$dementia)~ethnicity_variable_label_8levels,data=df, scale=1) \n",
    "fit\n",
    "e<-fit$event\n",
    "e\n",
    "t<-fit$pyears\n",
    "t\n",
    "dt1=binconf(e,t,alpha = 0.05,method = \"asymptotic\")\n",
    "dt1"
   ]
  },
  {
   "cell_type": "code",
   "execution_count": 4,
   "id": "e2313157-a753-4c28-936f-e7bd5d2ad33a",
   "metadata": {},
   "outputs": [
    {
     "data": {
      "text/plain": [
       "\n",
       "     0      1 \n",
       "230017  58017 "
      ]
     },
     "metadata": {},
     "output_type": "display_data"
    },
    {
     "data": {
      "text/plain": [
       "Call:\n",
       "pyears(formula = Surv(time = df$time_to_dementia, event = df$dementia) ~ \n",
       "    ethnicity_variable_label_8levels, data = df, subset = df$agegroup == \n",
       "    4, scale = 1)\n",
       "\n",
       "Total number of events: 13864 \n",
       "Total number of person-years tabulated: 253764.9 \n",
       "Total number of person-years off table: 0 \n",
       "Observations in the data set: 32583 \n",
       "  (18482 observations deleted due to missingness)\n"
      ]
     },
     "metadata": {},
     "output_type": "display_data"
    },
    {
     "data": {
      "text/html": [
       "<style>\n",
       ".dl-inline {width: auto; margin:0; padding: 0}\n",
       ".dl-inline>dt, .dl-inline>dd {float: none; width: auto; display: inline-block}\n",
       ".dl-inline>dt::after {content: \":\\0020\"; padding-right: .5ex}\n",
       ".dl-inline>dt:not(:first-of-type) {padding-left: .5ex}\n",
       "</style><dl class=dl-inline><dt>Asian British: East Asian and Others</dt><dd>44</dd><dt>Asian British: South Asian</dt><dd>1050</dd><dt>Black British: African</dt><dd>13</dd><dt>Black British: Caribbean and Others</dt><dd>89</dd><dt>Mixed/Multiple ethnic groups</dt><dd>102</dd><dt>Other ethnic group</dt><dd>48</dd><dt>White</dt><dd>12000</dd><dt>White: Any other White background</dt><dd>518</dd></dl>\n"
      ],
      "text/latex": [
       "\\begin{description*}\n",
       "\\item[Asian British: East Asian and Others] 44\n",
       "\\item[Asian British: South Asian] 1050\n",
       "\\item[Black British: African] 13\n",
       "\\item[Black British: Caribbean and Others] 89\n",
       "\\item[Mixed/Multiple ethnic groups] 102\n",
       "\\item[Other ethnic group] 48\n",
       "\\item[White] 12000\n",
       "\\item[White: Any other White background] 518\n",
       "\\end{description*}\n"
      ],
      "text/markdown": [
       "Asian British: East Asian and Others\n",
       ":   44Asian British: South Asian\n",
       ":   1050Black British: African\n",
       ":   13Black British: Caribbean and Others\n",
       ":   89Mixed/Multiple ethnic groups\n",
       ":   102Other ethnic group\n",
       ":   48White\n",
       ":   12000White: Any other White background\n",
       ":   518\n",
       "\n"
      ],
      "text/plain": [
       "ethnicity_variable_label_8levels\n",
       "Asian British: East Asian and Others           Asian British: South Asian \n",
       "                                  44                                 1050 \n",
       "              Black British: African  Black British: Caribbean and Others \n",
       "                                  13                                   89 \n",
       "        Mixed/Multiple ethnic groups                   Other ethnic group \n",
       "                                 102                                   48 \n",
       "                               White    White: Any other White background \n",
       "                               12000                                  518 "
      ]
     },
     "metadata": {},
     "output_type": "display_data"
    },
    {
     "data": {
      "text/html": [
       "<style>\n",
       ".dl-inline {width: auto; margin:0; padding: 0}\n",
       ".dl-inline>dt, .dl-inline>dd {float: none; width: auto; display: inline-block}\n",
       ".dl-inline>dt::after {content: \":\\0020\"; padding-right: .5ex}\n",
       ".dl-inline>dt:not(:first-of-type) {padding-left: .5ex}\n",
       "</style><dl class=dl-inline><dt>Asian British: East Asian and Others</dt><dd>1122.22465753425</dd><dt>Asian British: South Asian</dt><dd>18101.3452054795</dd><dt>Black British: African</dt><dd>273.939726027397</dd><dt>Black British: Caribbean and Others</dt><dd>1043.23561643836</dd><dt>Mixed/Multiple ethnic groups</dt><dd>1823.2904109589</dd><dt>Other ethnic group</dt><dd>1273.30684931507</dd><dt>White</dt><dd>219219.334246576</dd><dt>White: Any other White background</dt><dd>10908.2493150685</dd></dl>\n"
      ],
      "text/latex": [
       "\\begin{description*}\n",
       "\\item[Asian British: East Asian and Others] 1122.22465753425\n",
       "\\item[Asian British: South Asian] 18101.3452054795\n",
       "\\item[Black British: African] 273.939726027397\n",
       "\\item[Black British: Caribbean and Others] 1043.23561643836\n",
       "\\item[Mixed/Multiple ethnic groups] 1823.2904109589\n",
       "\\item[Other ethnic group] 1273.30684931507\n",
       "\\item[White] 219219.334246576\n",
       "\\item[White: Any other White background] 10908.2493150685\n",
       "\\end{description*}\n"
      ],
      "text/markdown": [
       "Asian British: East Asian and Others\n",
       ":   1122.22465753425Asian British: South Asian\n",
       ":   18101.3452054795Black British: African\n",
       ":   273.939726027397Black British: Caribbean and Others\n",
       ":   1043.23561643836Mixed/Multiple ethnic groups\n",
       ":   1823.2904109589Other ethnic group\n",
       ":   1273.30684931507White\n",
       ":   219219.334246576White: Any other White background\n",
       ":   10908.2493150685\n",
       "\n"
      ],
      "text/plain": [
       "ethnicity_variable_label_8levels\n",
       "Asian British: East Asian and Others           Asian British: South Asian \n",
       "                           1122.2247                           18101.3452 \n",
       "              Black British: African  Black British: Caribbean and Others \n",
       "                            273.9397                            1043.2356 \n",
       "        Mixed/Multiple ethnic groups                   Other ethnic group \n",
       "                           1823.2904                            1273.3068 \n",
       "                               White    White: Any other White background \n",
       "                         219219.3342                           10908.2493 "
      ]
     },
     "metadata": {},
     "output_type": "display_data"
    },
    {
     "data": {
      "text/html": [
       "<table class=\"dataframe\">\n",
       "<caption>A matrix: 8 × 3 of type dbl</caption>\n",
       "<thead>\n",
       "\t<tr><th></th><th scope=col>PointEst</th><th scope=col>Lower</th><th scope=col>Upper</th></tr>\n",
       "</thead>\n",
       "<tbody>\n",
       "\t<tr><th scope=row></th><td>0.03920784</td><td>0.02785225</td><td>0.05056342</td></tr>\n",
       "\t<tr><th scope=row></th><td>0.05800674</td><td>0.05460144</td><td>0.06141204</td></tr>\n",
       "\t<tr><th scope=row></th><td>0.04745569</td><td>0.02227850</td><td>0.07263289</td></tr>\n",
       "\t<tr><th scope=row></th><td>0.08531150</td><td>0.06836043</td><td>0.10226258</td></tr>\n",
       "\t<tr><th scope=row></th><td>0.05594282</td><td>0.04539430</td><td>0.06649133</td></tr>\n",
       "\t<tr><th scope=row></th><td>0.03769712</td><td>0.02723568</td><td>0.04815856</td></tr>\n",
       "\t<tr><th scope=row></th><td>0.05473970</td><td>0.05378748</td><td>0.05569191</td></tr>\n",
       "\t<tr><th scope=row></th><td>0.04748700</td><td>0.04349589</td><td>0.05147810</td></tr>\n",
       "</tbody>\n",
       "</table>\n"
      ],
      "text/latex": [
       "A matrix: 8 × 3 of type dbl\n",
       "\\begin{tabular}{r|lll}\n",
       "  & PointEst & Lower & Upper\\\\\n",
       "\\hline\n",
       "\t & 0.03920784 & 0.02785225 & 0.05056342\\\\\n",
       "\t & 0.05800674 & 0.05460144 & 0.06141204\\\\\n",
       "\t & 0.04745569 & 0.02227850 & 0.07263289\\\\\n",
       "\t & 0.08531150 & 0.06836043 & 0.10226258\\\\\n",
       "\t & 0.05594282 & 0.04539430 & 0.06649133\\\\\n",
       "\t & 0.03769712 & 0.02723568 & 0.04815856\\\\\n",
       "\t & 0.05473970 & 0.05378748 & 0.05569191\\\\\n",
       "\t & 0.04748700 & 0.04349589 & 0.05147810\\\\\n",
       "\\end{tabular}\n"
      ],
      "text/markdown": [
       "\n",
       "A matrix: 8 × 3 of type dbl\n",
       "\n",
       "| <!--/--> | PointEst | Lower | Upper |\n",
       "|---|---|---|---|\n",
       "| <!----> | 0.03920784 | 0.02785225 | 0.05056342 |\n",
       "| <!----> | 0.05800674 | 0.05460144 | 0.06141204 |\n",
       "| <!----> | 0.04745569 | 0.02227850 | 0.07263289 |\n",
       "| <!----> | 0.08531150 | 0.06836043 | 0.10226258 |\n",
       "| <!----> | 0.05594282 | 0.04539430 | 0.06649133 |\n",
       "| <!----> | 0.03769712 | 0.02723568 | 0.04815856 |\n",
       "| <!----> | 0.05473970 | 0.05378748 | 0.05569191 |\n",
       "| <!----> | 0.04748700 | 0.04349589 | 0.05147810 |\n",
       "\n"
      ],
      "text/plain": [
       " PointEst   Lower      Upper     \n",
       " 0.03920784 0.02785225 0.05056342\n",
       " 0.05800674 0.05460144 0.06141204\n",
       " 0.04745569 0.02227850 0.07263289\n",
       " 0.08531150 0.06836043 0.10226258\n",
       " 0.05594282 0.04539430 0.06649133\n",
       " 0.03769712 0.02723568 0.04815856\n",
       " 0.05473970 0.05378748 0.05569191\n",
       " 0.04748700 0.04349589 0.05147810"
      ]
     },
     "metadata": {},
     "output_type": "display_data"
    }
   ],
   "source": [
    "df=subset(data,data$time_to_dementia>0&data$time_to_dementia<=10) \n",
    "df$dementia=ifelse(is.na(df$dementia_variable_start_time),0,1)\n",
    "table(df$dementia)\n",
    "fit<-pyears(Surv(time = df$time_to_dementia,event = df$dementia)~ethnicity_variable_label_8levels\n",
    "            ,data=df,subset=df$agegroup==4, scale=1) \n",
    "fit\n",
    "e<-fit$event\n",
    "e\n",
    "t<-fit$pyears\n",
    "t\n",
    "dt1=binconf(e,t,alpha = 0.05,method = \"asymptotic\")\n",
    "dt1"
   ]
  },
  {
   "cell_type": "code",
   "execution_count": 3,
   "id": "233eb76f-fb46-43fc-9ccb-8cee1a0ed3fb",
   "metadata": {},
   "outputs": [
    {
     "data": {
      "text/plain": [
       "\n",
       "     0      1 \n",
       "230017  58017 "
      ]
     },
     "metadata": {},
     "output_type": "display_data"
    },
    {
     "data": {
      "text/plain": [
       "Call:\n",
       "pyears(formula = Surv(time = df$time_to_dementia, event = df$dementia) ~ \n",
       "    ethnicity_variable_label_8levels, data = df, subset = df$agegroup == \n",
       "    4, scale = 1)\n",
       "\n",
       "Total number of events: 13864 \n",
       "Total number of person-years tabulated: 253764.9 \n",
       "Total number of person-years off table: 0 \n",
       "Observations in the data set: 32583 \n",
       "  (18482 observations deleted due to missingness)\n"
      ]
     },
     "metadata": {},
     "output_type": "display_data"
    },
    {
     "data": {
      "text/html": [
       "<style>\n",
       ".dl-inline {width: auto; margin:0; padding: 0}\n",
       ".dl-inline>dt, .dl-inline>dd {float: none; width: auto; display: inline-block}\n",
       ".dl-inline>dt::after {content: \":\\0020\"; padding-right: .5ex}\n",
       ".dl-inline>dt:not(:first-of-type) {padding-left: .5ex}\n",
       "</style><dl class=dl-inline><dt>Asian British: East Asian and Others</dt><dd>44</dd><dt>Asian British: South Asian</dt><dd>1050</dd><dt>Black British: African</dt><dd>13</dd><dt>Black British: Caribbean and Others</dt><dd>89</dd><dt>Mixed/Multiple ethnic groups</dt><dd>102</dd><dt>Other ethnic group</dt><dd>48</dd><dt>White</dt><dd>12000</dd><dt>White: Any other White background</dt><dd>518</dd></dl>\n"
      ],
      "text/latex": [
       "\\begin{description*}\n",
       "\\item[Asian British: East Asian and Others] 44\n",
       "\\item[Asian British: South Asian] 1050\n",
       "\\item[Black British: African] 13\n",
       "\\item[Black British: Caribbean and Others] 89\n",
       "\\item[Mixed/Multiple ethnic groups] 102\n",
       "\\item[Other ethnic group] 48\n",
       "\\item[White] 12000\n",
       "\\item[White: Any other White background] 518\n",
       "\\end{description*}\n"
      ],
      "text/markdown": [
       "Asian British: East Asian and Others\n",
       ":   44Asian British: South Asian\n",
       ":   1050Black British: African\n",
       ":   13Black British: Caribbean and Others\n",
       ":   89Mixed/Multiple ethnic groups\n",
       ":   102Other ethnic group\n",
       ":   48White\n",
       ":   12000White: Any other White background\n",
       ":   518\n",
       "\n"
      ],
      "text/plain": [
       "ethnicity_variable_label_8levels\n",
       "Asian British: East Asian and Others           Asian British: South Asian \n",
       "                                  44                                 1050 \n",
       "              Black British: African  Black British: Caribbean and Others \n",
       "                                  13                                   89 \n",
       "        Mixed/Multiple ethnic groups                   Other ethnic group \n",
       "                                 102                                   48 \n",
       "                               White    White: Any other White background \n",
       "                               12000                                  518 "
      ]
     },
     "metadata": {},
     "output_type": "display_data"
    },
    {
     "data": {
      "text/html": [
       "<style>\n",
       ".dl-inline {width: auto; margin:0; padding: 0}\n",
       ".dl-inline>dt, .dl-inline>dd {float: none; width: auto; display: inline-block}\n",
       ".dl-inline>dt::after {content: \":\\0020\"; padding-right: .5ex}\n",
       ".dl-inline>dt:not(:first-of-type) {padding-left: .5ex}\n",
       "</style><dl class=dl-inline><dt>Asian British: East Asian and Others</dt><dd>1122.22465753425</dd><dt>Asian British: South Asian</dt><dd>18101.3452054795</dd><dt>Black British: African</dt><dd>273.939726027397</dd><dt>Black British: Caribbean and Others</dt><dd>1043.23561643836</dd><dt>Mixed/Multiple ethnic groups</dt><dd>1823.2904109589</dd><dt>Other ethnic group</dt><dd>1273.30684931507</dd><dt>White</dt><dd>219219.334246576</dd><dt>White: Any other White background</dt><dd>10908.2493150685</dd></dl>\n"
      ],
      "text/latex": [
       "\\begin{description*}\n",
       "\\item[Asian British: East Asian and Others] 1122.22465753425\n",
       "\\item[Asian British: South Asian] 18101.3452054795\n",
       "\\item[Black British: African] 273.939726027397\n",
       "\\item[Black British: Caribbean and Others] 1043.23561643836\n",
       "\\item[Mixed/Multiple ethnic groups] 1823.2904109589\n",
       "\\item[Other ethnic group] 1273.30684931507\n",
       "\\item[White] 219219.334246576\n",
       "\\item[White: Any other White background] 10908.2493150685\n",
       "\\end{description*}\n"
      ],
      "text/markdown": [
       "Asian British: East Asian and Others\n",
       ":   1122.22465753425Asian British: South Asian\n",
       ":   18101.3452054795Black British: African\n",
       ":   273.939726027397Black British: Caribbean and Others\n",
       ":   1043.23561643836Mixed/Multiple ethnic groups\n",
       ":   1823.2904109589Other ethnic group\n",
       ":   1273.30684931507White\n",
       ":   219219.334246576White: Any other White background\n",
       ":   10908.2493150685\n",
       "\n"
      ],
      "text/plain": [
       "ethnicity_variable_label_8levels\n",
       "Asian British: East Asian and Others           Asian British: South Asian \n",
       "                           1122.2247                           18101.3452 \n",
       "              Black British: African  Black British: Caribbean and Others \n",
       "                            273.9397                            1043.2356 \n",
       "        Mixed/Multiple ethnic groups                   Other ethnic group \n",
       "                           1823.2904                            1273.3068 \n",
       "                               White    White: Any other White background \n",
       "                         219219.3342                           10908.2493 "
      ]
     },
     "metadata": {},
     "output_type": "display_data"
    },
    {
     "data": {
      "text/html": [
       "<table class=\"dataframe\">\n",
       "<caption>A matrix: 8 × 3 of type dbl</caption>\n",
       "<thead>\n",
       "\t<tr><th></th><th scope=col>PointEst</th><th scope=col>Lower</th><th scope=col>Upper</th></tr>\n",
       "</thead>\n",
       "<tbody>\n",
       "\t<tr><th scope=row></th><td>0.03920784</td><td>0.02785225</td><td>0.05056342</td></tr>\n",
       "\t<tr><th scope=row></th><td>0.05800674</td><td>0.05460144</td><td>0.06141204</td></tr>\n",
       "\t<tr><th scope=row></th><td>0.04745569</td><td>0.02227850</td><td>0.07263289</td></tr>\n",
       "\t<tr><th scope=row></th><td>0.08531150</td><td>0.06836043</td><td>0.10226258</td></tr>\n",
       "\t<tr><th scope=row></th><td>0.05594282</td><td>0.04539430</td><td>0.06649133</td></tr>\n",
       "\t<tr><th scope=row></th><td>0.03769712</td><td>0.02723568</td><td>0.04815856</td></tr>\n",
       "\t<tr><th scope=row></th><td>0.05473970</td><td>0.05378748</td><td>0.05569191</td></tr>\n",
       "\t<tr><th scope=row></th><td>0.04748700</td><td>0.04349589</td><td>0.05147810</td></tr>\n",
       "</tbody>\n",
       "</table>\n"
      ],
      "text/latex": [
       "A matrix: 8 × 3 of type dbl\n",
       "\\begin{tabular}{r|lll}\n",
       "  & PointEst & Lower & Upper\\\\\n",
       "\\hline\n",
       "\t & 0.03920784 & 0.02785225 & 0.05056342\\\\\n",
       "\t & 0.05800674 & 0.05460144 & 0.06141204\\\\\n",
       "\t & 0.04745569 & 0.02227850 & 0.07263289\\\\\n",
       "\t & 0.08531150 & 0.06836043 & 0.10226258\\\\\n",
       "\t & 0.05594282 & 0.04539430 & 0.06649133\\\\\n",
       "\t & 0.03769712 & 0.02723568 & 0.04815856\\\\\n",
       "\t & 0.05473970 & 0.05378748 & 0.05569191\\\\\n",
       "\t & 0.04748700 & 0.04349589 & 0.05147810\\\\\n",
       "\\end{tabular}\n"
      ],
      "text/markdown": [
       "\n",
       "A matrix: 8 × 3 of type dbl\n",
       "\n",
       "| <!--/--> | PointEst | Lower | Upper |\n",
       "|---|---|---|---|\n",
       "| <!----> | 0.03920784 | 0.02785225 | 0.05056342 |\n",
       "| <!----> | 0.05800674 | 0.05460144 | 0.06141204 |\n",
       "| <!----> | 0.04745569 | 0.02227850 | 0.07263289 |\n",
       "| <!----> | 0.08531150 | 0.06836043 | 0.10226258 |\n",
       "| <!----> | 0.05594282 | 0.04539430 | 0.06649133 |\n",
       "| <!----> | 0.03769712 | 0.02723568 | 0.04815856 |\n",
       "| <!----> | 0.05473970 | 0.05378748 | 0.05569191 |\n",
       "| <!----> | 0.04748700 | 0.04349589 | 0.05147810 |\n",
       "\n"
      ],
      "text/plain": [
       " PointEst   Lower      Upper     \n",
       " 0.03920784 0.02785225 0.05056342\n",
       " 0.05800674 0.05460144 0.06141204\n",
       " 0.04745569 0.02227850 0.07263289\n",
       " 0.08531150 0.06836043 0.10226258\n",
       " 0.05594282 0.04539430 0.06649133\n",
       " 0.03769712 0.02723568 0.04815856\n",
       " 0.05473970 0.05378748 0.05569191\n",
       " 0.04748700 0.04349589 0.05147810"
      ]
     },
     "metadata": {},
     "output_type": "display_data"
    }
   ],
   "source": [
    "df=subset(data,data$time_to_dementia>0&data$time_to_dementia<=10) \n",
    "df$dementia=ifelse(is.na(df$dementia_variable_start_time),0,1)\n",
    "table(df$dementia)\n",
    "fit<-pyears(Surv(time = df$time_to_dementia,event = df$dementia)~ethnicity_variable_label_8levels\n",
    "            ,data=df, scale=1) \n",
    "fit\n",
    "e<-fit$event\n",
    "e\n",
    "t<-fit$pyears\n",
    "t\n",
    "dt1=binconf(e,t,alpha = 0.05,method = \"asymptotic\")\n",
    "dt1"
   ]
  },
  {
   "cell_type": "code",
   "execution_count": 5,
   "id": "07a727a4-0d1b-436f-b7c0-e94f17736721",
   "metadata": {},
   "outputs": [
    {
     "data": {
      "text/html": [
       "0.393741812154936"
      ],
      "text/latex": [
       "0.393741812154936"
      ],
      "text/markdown": [
       "0.393741812154936"
      ],
      "text/plain": [
       "[1] 0.3937418"
      ]
     },
     "metadata": {},
     "output_type": "display_data"
    },
    {
     "data": {
      "text/html": [
       "0.322002514718324"
      ],
      "text/latex": [
       "0.322002514718324"
      ],
      "text/markdown": [
       "0.322002514718324"
      ],
      "text/plain": [
       "[1] 0.3220025"
      ]
     },
     "metadata": {},
     "output_type": "display_data"
    },
    {
     "data": {
      "text/html": [
       "0.481463987244538"
      ],
      "text/latex": [
       "0.481463987244538"
      ],
      "text/markdown": [
       "0.481463987244538"
      ],
      "text/plain": [
       "[1] 0.481464"
      ]
     },
     "metadata": {},
     "output_type": "display_data"
    }
   ],
   "source": [
    "a1=96\n",
    "b1=39563\n",
    "a2=8750\n",
    "b2=1419834\n",
    "c1=a1/a2*1000\n",
    "c2=b1/b2*1000\n",
    "\n",
    "RR=c1/c2\n",
    "d=log(RR)\n",
    "lower=exp(d-1.96*sqrt((1/a1)+(1/a2)))\n",
    "upper=exp(d+1.96*sqrt((1/a1)+(1/a2)))\n",
    "\n",
    "RR\n",
    "lower\n",
    "upper"
   ]
  },
  {
   "cell_type": "code",
   "execution_count": null,
   "id": "3650a4e4-2cc2-4b1f-801c-92fef617dc13",
   "metadata": {},
   "outputs": [],
   "source": [
    "IRR <- rateratio(136, 1709, 22050, 127650)\n",
    " str(res)\n",
    " print(res)"
   ]
  },
  {
   "cell_type": "code",
   "execution_count": null,
   "id": "5b8c7c0a-cb47-4187-909e-c62617259a76",
   "metadata": {},
   "outputs": [],
   "source": [
    "create table `yhcr-prd-phm-bia-core.CB_MYSPACE_LG.0202_total_impute_clean_age` as\n",
    "select *,case when 45<= age AND age<= 55 then '1' \n",
    "when 55<= age AND age<= 65 then '2' \n",
    "when 65<= age AND age <= 75 then '3' \n",
    "else '4' end as agegroup\n",
    "from `yhcr-prd-phm-bia-core.CB_MYSPACE_LG.0202_total_impute_clean`"
   ]
  },
  {
   "cell_type": "code",
   "execution_count": null,
   "id": "ed2dabde-b5ee-4aab-b60a-8367cd2d5257",
   "metadata": {},
   "outputs": [],
   "source": [
    "CREATE TABLE `yhcr-prd-phm-bia-core.CB_MYSPACE_LG.0202_total_impute_clean_age_index` as\n",
    "Select distinct a.*\n",
    "  , c.Lsoa\n",
    "  , max(Index_of_Multiple_Deprivation_Decile)\n",
    "  from `yhcr-prd-phm-bia-core.CB_MYSPACE_LG.0202_total_impute_clean_death_age` a\n",
    "left join `yhcr-prd-phm-bia-core.CB_LOOKUPS.tbl_person_lsoa` as c \n",
    "on a.person_id = c.person_id\n",
    "left join `yhcr-prd-phm-bia-core.CB_LOOKUPS.tbl_IMD_by_LSOA` as d \n",
    "on c.lsoa = d.LSOA_code\n",
    "\n",
    "CREATE TABLE `yhcr-prd-phm-bia-core.CB_MYSPACE_LG.0202_total_impute_clean_age_index_slim` as\n",
    "Select person_id, birth_datetime, death_datetime, ethnicity_concept_id, age, recode_ethnicity_concept_id, gender_variable_value,\n",
    "gender_variable_label, ethnicity_variable_value_8levels, ethnicity_variable_label_8levels, dementia_variable_value,\n",
    "dementia_variable_start_time, agegroup, age_at_death, max(Index_of_Multiple_Deprivation_Decile) max_index\n",
    "FROM `yhcr-prd-phm-bia-core.CB_MYSPACE_LG.0202_total_impute_clean_age_index`\n",
    "GROUP BY person_id, birth_datetime, death_datetime, ethnicity_concept_id, age, recode_ethnicity_concept_id,\n",
    "gender_variable_value, gender_variable_label, ethnicity_variable_value_8levels, ethnicity_variable_label_8levels,\n",
    "dementia_variable_value, dementia_variable_start_time, agegroup, age_at_death"
   ]
  },
  {
   "cell_type": "code",
   "execution_count": 72,
   "id": "a9e2861e-d474-4dc4-bcd4-ce4a19b2018a",
   "metadata": {},
   "outputs": [
    {
     "data": {
      "text/html": [
       "<table class=\"dataframe\">\n",
       "<caption>A data.frame: 8 × 2</caption>\n",
       "<thead>\n",
       "\t<tr><th scope=col>Group.1</th><th scope=col>x</th></tr>\n",
       "\t<tr><th scope=col>&lt;chr&gt;</th><th scope=col>&lt;dbl&gt;</th></tr>\n",
       "</thead>\n",
       "<tbody>\n",
       "\t<tr><td>Asian British: East Asian and Others</td><td> 9.978504</td></tr>\n",
       "\t<tr><td>Asian British: South Asian          </td><td>10.535255</td></tr>\n",
       "\t<tr><td>Black British: African              </td><td> 8.586893</td></tr>\n",
       "\t<tr><td>Black British: Caribbean and Others </td><td>11.402566</td></tr>\n",
       "\t<tr><td>Mixed/Multiple ethnic groups        </td><td>10.802404</td></tr>\n",
       "\t<tr><td>Other ethnic group                  </td><td>10.725159</td></tr>\n",
       "\t<tr><td>White                               </td><td>11.991537</td></tr>\n",
       "\t<tr><td>White: Any other White background   </td><td>12.720981</td></tr>\n",
       "</tbody>\n",
       "</table>\n"
      ],
      "text/latex": [
       "A data.frame: 8 × 2\n",
       "\\begin{tabular}{ll}\n",
       " Group.1 & x\\\\\n",
       " <chr> & <dbl>\\\\\n",
       "\\hline\n",
       "\t Asian British: East Asian and Others &  9.978504\\\\\n",
       "\t Asian British: South Asian           & 10.535255\\\\\n",
       "\t Black British: African               &  8.586893\\\\\n",
       "\t Black British: Caribbean and Others  & 11.402566\\\\\n",
       "\t Mixed/Multiple ethnic groups         & 10.802404\\\\\n",
       "\t Other ethnic group                   & 10.725159\\\\\n",
       "\t White                                & 11.991537\\\\\n",
       "\t White: Any other White background    & 12.720981\\\\\n",
       "\\end{tabular}\n"
      ],
      "text/markdown": [
       "\n",
       "A data.frame: 8 × 2\n",
       "\n",
       "| Group.1 &lt;chr&gt; | x &lt;dbl&gt; |\n",
       "|---|---|\n",
       "| Asian British: East Asian and Others |  9.978504 |\n",
       "| Asian British: South Asian           | 10.535255 |\n",
       "| Black British: African               |  8.586893 |\n",
       "| Black British: Caribbean and Others  | 11.402566 |\n",
       "| Mixed/Multiple ethnic groups         | 10.802404 |\n",
       "| Other ethnic group                   | 10.725159 |\n",
       "| White                                | 11.991537 |\n",
       "| White: Any other White background    | 12.720981 |\n",
       "\n"
      ],
      "text/plain": [
       "  Group.1                              x        \n",
       "1 Asian British: East Asian and Others  9.978504\n",
       "2 Asian British: South Asian           10.535255\n",
       "3 Black British: African                8.586893\n",
       "4 Black British: Caribbean and Others  11.402566\n",
       "5 Mixed/Multiple ethnic groups         10.802404\n",
       "6 Other ethnic group                   10.725159\n",
       "7 White                                11.991537\n",
       "8 White: Any other White background    12.720981"
      ]
     },
     "metadata": {},
     "output_type": "display_data"
    }
   ],
   "source": [
    "library(dplyr)\n",
    "df=subset(data) \n",
    "aggregate(df$age, list(df$ethnicity_variable_label_8levels), FUN=sd)"
   ]
  },
  {
   "cell_type": "code",
   "execution_count": 66,
   "id": "bd3cfb19-b73b-42a8-bb25-bcb0f815a69e",
   "metadata": {},
   "outputs": [
    {
     "ename": "ERROR",
     "evalue": "Error in is.data.frame(x): object 'age' not found\n",
     "output_type": "error",
     "traceback": [
      "Error in is.data.frame(x): object 'age' not found\nTraceback:\n",
      "1. df %>% group_by(ethnicity_variable_label_8levels) %>% summarise_at(vars(age), \n .     list(name = mean), sd = sd(age))",
      "2. summarise_at(., vars(age), list(name = mean), sd = sd(age))",
      "3. manip_at(.tbl, .vars, .funs, enquo(.funs), caller_env(), ..., \n .     .caller = \"summarise_at\")",
      "4. as_fun_list(.funs, .env, ..., .caller = .caller, error_call = error_call, \n .     .user_env = caller_env(2))",
      "5. list2(...)",
      "6. sd(age)",
      "7. var(if (is.vector(x) || is.factor(x)) x else as.double(x), na.rm = na.rm)",
      "8. is.data.frame(x)"
     ]
    }
   ],
   "source": [
    "\n",
    "df %>%\n",
    "  group_by(ethnicity_variable_label_8levels) %>%\n",
    "  summarise_at(vars(age), list(name = mean),\n",
    "              sd = sd(age))"
   ]
  },
  {
   "cell_type": "code",
   "execution_count": 70,
   "id": "2195cd98-3f42-48e2-9c1b-7f5e9960abf4",
   "metadata": {},
   "outputs": [
    {
     "data": {
      "text/html": [
       "<table class=\"dataframe\">\n",
       "<caption>A data.frame: 1 × 2</caption>\n",
       "<thead>\n",
       "\t<tr><th scope=col>age</th><th scope=col>sd</th></tr>\n",
       "\t<tr><th scope=col>&lt;dbl&gt;</th><th scope=col>&lt;dbl&gt;</th></tr>\n",
       "</thead>\n",
       "<tbody>\n",
       "\t<tr><td>62.1039</td><td>12.40171</td></tr>\n",
       "</tbody>\n",
       "</table>\n"
      ],
      "text/latex": [
       "A data.frame: 1 × 2\n",
       "\\begin{tabular}{ll}\n",
       " age & sd\\\\\n",
       " <dbl> & <dbl>\\\\\n",
       "\\hline\n",
       "\t 62.1039 & 12.40171\\\\\n",
       "\\end{tabular}\n"
      ],
      "text/markdown": [
       "\n",
       "A data.frame: 1 × 2\n",
       "\n",
       "| age &lt;dbl&gt; | sd &lt;dbl&gt; |\n",
       "|---|---|\n",
       "| 62.1039 | 12.40171 |\n",
       "\n"
      ],
      "text/plain": [
       "  age     sd      \n",
       "1 62.1039 12.40171"
      ]
     },
     "metadata": {},
     "output_type": "display_data"
    }
   ],
   "source": [
    "df %>%\n",
    "  group_by(ethnicity_variable_label_8levels) %>%\n",
    "  summarise(age = mean(age), sd = sd(df$age, na.rm=TRUE))"
   ]
  },
  {
   "cell_type": "code",
   "execution_count": 76,
   "id": "3434269b-0978-4263-832e-0f646ab2e020",
   "metadata": {},
   "outputs": [
    {
     "ename": "ERROR",
     "evalue": "Error in parse(text = x, srcfile = src): <text>:1:53: unexpected '='\n1: df=subset(data,data$ethnicity_variable_label_8levels=\n                                                        ^\n",
     "output_type": "error",
     "traceback": [
      "Error in parse(text = x, srcfile = src): <text>:1:53: unexpected '='\n1: df=subset(data,data$ethnicity_variable_label_8levels=\n                                                        ^\nTraceback:\n"
     ]
    }
   ],
   "source": [
    "\n",
    "df=subset(data,data$ethnicity_variable_label_8levels=NA) \n",
    "df %>%\n",
    "  summarise(age = mean(age), sd = sd(df$age, na.rm=TRUE))"
   ]
  },
  {
   "cell_type": "code",
   "execution_count": null,
   "id": "0790db92-7292-484b-9744-7ccf4e68819d",
   "metadata": {},
   "outputs": [],
   "source": [
    "#female numbers\n",
    "\n",
    "SELECT ethnicity_variable_label_8levels, count (distinct person_id) FROM `yhcr-prd-phm-bia-core.CB_MYSPACE_LG.0202_total_impute_clean_age_index_slim`  \n",
    "WHERE gender_variable_value = 1\n",
    "GROUP BY ethnicity_variable_label_8levels\n",
    "\n",
    "#deprivation numbers \n",
    "SELECT ethnicity_variable_label_8levels, count (distinct person_id) FROM `yhcr-prd-phm-bia-core.CB_MYSPACE_LG.0202_total_impute_clean_age_index_slim`  \n",
    "WHERE max_index = 1 OR max_index = 2\n",
    "GROUP BY ethnicity_variable_label_8levels\n"
   ]
  },
  {
   "cell_type": "code",
   "execution_count": null,
   "id": "5da1f7c0-f473-4e97-91f0-492fff10eef4",
   "metadata": {},
   "outputs": [],
   "source": [
    "model2 <- lm(salary ~ yrs.service + rank + discipline + sex,\n",
    "             data = Salaries)\n",
    "Anova(model2)"
   ]
  },
  {
   "cell_type": "code",
   "execution_count": 26,
   "id": "9ae21131-01e0-4b39-ac7e-412ef838f8c3",
   "metadata": {},
   "outputs": [
    {
     "ename": "ERROR",
     "evalue": "Error in parse(text = x, srcfile = src): <text>:1:46: unexpected '='\n1: df1<-subset(data,data$dementia_variable_value=\n                                                 ^\n",
     "output_type": "error",
     "traceback": [
      "Error in parse(text = x, srcfile = src): <text>:1:46: unexpected '='\n1: df1<-subset(data,data$dementia_variable_value=\n                                                 ^\nTraceback:\n"
     ]
    }
   ],
   "source": [
    "df1<-subset(data,data$dementia_variable_value=1) "
   ]
  },
  {
   "cell_type": "code",
   "execution_count": 48,
   "id": "d64a63ca-e562-48c7-ad01-ae9221603e21",
   "metadata": {},
   "outputs": [
    {
     "data": {
      "text/html": [
       "<table class=\"dataframe\">\n",
       "<caption>A matrix: 11 × 4 of type dbl</caption>\n",
       "<thead>\n",
       "\t<tr><th></th><th scope=col>Estimate</th><th scope=col>Std. Error</th><th scope=col>t value</th><th scope=col>Pr(&gt;|t|)</th></tr>\n",
       "</thead>\n",
       "<tbody>\n",
       "\t<tr><th scope=row>(Intercept)</th><td> 8.19920405</td><td>0.055675753</td><td> 147.2670525</td><td>0.000000e+00</td></tr>\n",
       "\t<tr><th scope=row>factor(ethnicity_variable_value_8levels)2</th><td> 0.02443234</td><td>0.045157121</td><td>   0.5410519</td><td>5.884746e-01</td></tr>\n",
       "\t<tr><th scope=row>factor(ethnicity_variable_value_8levels)3</th><td>-0.02625255</td><td>0.022439377</td><td>  -1.1699322</td><td>2.420346e-01</td></tr>\n",
       "\t<tr><th scope=row>factor(ethnicity_variable_value_8levels)4</th><td>-0.12658971</td><td>0.090665664</td><td>  -1.3962255</td><td>1.626536e-01</td></tr>\n",
       "\t<tr><th scope=row>factor(ethnicity_variable_value_8levels)5</th><td> 0.25918002</td><td>0.163815345</td><td>   1.5821474</td><td>1.136231e-01</td></tr>\n",
       "\t<tr><th scope=row>factor(ethnicity_variable_value_8levels)6</th><td>-0.06795913</td><td>0.089903519</td><td>  -0.7559118</td><td>4.497061e-01</td></tr>\n",
       "\t<tr><th scope=row>factor(ethnicity_variable_value_8levels)7</th><td>-0.02455543</td><td>0.072423745</td><td>  -0.3390522</td><td>7.345720e-01</td></tr>\n",
       "\t<tr><th scope=row>factor(ethnicity_variable_value_8levels)8</th><td> 0.04715161</td><td>0.117897058</td><td>   0.3999388</td><td>6.892035e-01</td></tr>\n",
       "\t<tr><th scope=row>age</th><td> 0.95685949</td><td>0.000793894</td><td>1205.2735964</td><td>0.000000e+00</td></tr>\n",
       "\t<tr><th scope=row>gender_variable_value</th><td> 0.09573753</td><td>0.015244573</td><td>   6.2801058</td><td>3.414923e-10</td></tr>\n",
       "\t<tr><th scope=row>max_index</th><td> 0.03461594</td><td>0.002915002</td><td>  11.8751000</td><td>1.787344e-32</td></tr>\n",
       "</tbody>\n",
       "</table>\n"
      ],
      "text/latex": [
       "A matrix: 11 × 4 of type dbl\n",
       "\\begin{tabular}{r|llll}\n",
       "  & Estimate & Std. Error & t value & Pr(>\\textbar{}t\\textbar{})\\\\\n",
       "\\hline\n",
       "\t(Intercept) &  8.19920405 & 0.055675753 &  147.2670525 & 0.000000e+00\\\\\n",
       "\tfactor(ethnicity\\_variable\\_value\\_8levels)2 &  0.02443234 & 0.045157121 &    0.5410519 & 5.884746e-01\\\\\n",
       "\tfactor(ethnicity\\_variable\\_value\\_8levels)3 & -0.02625255 & 0.022439377 &   -1.1699322 & 2.420346e-01\\\\\n",
       "\tfactor(ethnicity\\_variable\\_value\\_8levels)4 & -0.12658971 & 0.090665664 &   -1.3962255 & 1.626536e-01\\\\\n",
       "\tfactor(ethnicity\\_variable\\_value\\_8levels)5 &  0.25918002 & 0.163815345 &    1.5821474 & 1.136231e-01\\\\\n",
       "\tfactor(ethnicity\\_variable\\_value\\_8levels)6 & -0.06795913 & 0.089903519 &   -0.7559118 & 4.497061e-01\\\\\n",
       "\tfactor(ethnicity\\_variable\\_value\\_8levels)7 & -0.02455543 & 0.072423745 &   -0.3390522 & 7.345720e-01\\\\\n",
       "\tfactor(ethnicity\\_variable\\_value\\_8levels)8 &  0.04715161 & 0.117897058 &    0.3999388 & 6.892035e-01\\\\\n",
       "\tage &  0.95685949 & 0.000793894 & 1205.2735964 & 0.000000e+00\\\\\n",
       "\tgender\\_variable\\_value &  0.09573753 & 0.015244573 &    6.2801058 & 3.414923e-10\\\\\n",
       "\tmax\\_index &  0.03461594 & 0.002915002 &   11.8751000 & 1.787344e-32\\\\\n",
       "\\end{tabular}\n"
      ],
      "text/markdown": [
       "\n",
       "A matrix: 11 × 4 of type dbl\n",
       "\n",
       "| <!--/--> | Estimate | Std. Error | t value | Pr(&gt;|t|) |\n",
       "|---|---|---|---|---|\n",
       "| (Intercept) |  8.19920405 | 0.055675753 |  147.2670525 | 0.000000e+00 |\n",
       "| factor(ethnicity_variable_value_8levels)2 |  0.02443234 | 0.045157121 |    0.5410519 | 5.884746e-01 |\n",
       "| factor(ethnicity_variable_value_8levels)3 | -0.02625255 | 0.022439377 |   -1.1699322 | 2.420346e-01 |\n",
       "| factor(ethnicity_variable_value_8levels)4 | -0.12658971 | 0.090665664 |   -1.3962255 | 1.626536e-01 |\n",
       "| factor(ethnicity_variable_value_8levels)5 |  0.25918002 | 0.163815345 |    1.5821474 | 1.136231e-01 |\n",
       "| factor(ethnicity_variable_value_8levels)6 | -0.06795913 | 0.089903519 |   -0.7559118 | 4.497061e-01 |\n",
       "| factor(ethnicity_variable_value_8levels)7 | -0.02455543 | 0.072423745 |   -0.3390522 | 7.345720e-01 |\n",
       "| factor(ethnicity_variable_value_8levels)8 |  0.04715161 | 0.117897058 |    0.3999388 | 6.892035e-01 |\n",
       "| age |  0.95685949 | 0.000793894 | 1205.2735964 | 0.000000e+00 |\n",
       "| gender_variable_value |  0.09573753 | 0.015244573 |    6.2801058 | 3.414923e-10 |\n",
       "| max_index |  0.03461594 | 0.002915002 |   11.8751000 | 1.787344e-32 |\n",
       "\n"
      ],
      "text/plain": [
       "                                          Estimate    Std. Error  t value     \n",
       "(Intercept)                                8.19920405 0.055675753  147.2670525\n",
       "factor(ethnicity_variable_value_8levels)2  0.02443234 0.045157121    0.5410519\n",
       "factor(ethnicity_variable_value_8levels)3 -0.02625255 0.022439377   -1.1699322\n",
       "factor(ethnicity_variable_value_8levels)4 -0.12658971 0.090665664   -1.3962255\n",
       "factor(ethnicity_variable_value_8levels)5  0.25918002 0.163815345    1.5821474\n",
       "factor(ethnicity_variable_value_8levels)6 -0.06795913 0.089903519   -0.7559118\n",
       "factor(ethnicity_variable_value_8levels)7 -0.02455543 0.072423745   -0.3390522\n",
       "factor(ethnicity_variable_value_8levels)8  0.04715161 0.117897058    0.3999388\n",
       "age                                        0.95685949 0.000793894 1205.2735964\n",
       "gender_variable_value                      0.09573753 0.015244573    6.2801058\n",
       "max_index                                  0.03461594 0.002915002   11.8751000\n",
       "                                          Pr(>|t|)    \n",
       "(Intercept)                               0.000000e+00\n",
       "factor(ethnicity_variable_value_8levels)2 5.884746e-01\n",
       "factor(ethnicity_variable_value_8levels)3 2.420346e-01\n",
       "factor(ethnicity_variable_value_8levels)4 1.626536e-01\n",
       "factor(ethnicity_variable_value_8levels)5 1.136231e-01\n",
       "factor(ethnicity_variable_value_8levels)6 4.497061e-01\n",
       "factor(ethnicity_variable_value_8levels)7 7.345720e-01\n",
       "factor(ethnicity_variable_value_8levels)8 6.892035e-01\n",
       "age                                       0.000000e+00\n",
       "gender_variable_value                     3.414923e-10\n",
       "max_index                                 1.787344e-32"
      ]
     },
     "metadata": {},
     "output_type": "display_data"
    }
   ],
   "source": [
    "library(dplyr)\n",
    "df=subset(data) \n",
    "model <- lm(age_onset ~ factor(ethnicity_variable_value_8levels)+age+gender_variable_value+max_index, data = df)\n",
    "summary(model)$coef"
   ]
  },
  {
   "cell_type": "code",
   "execution_count": null,
   "id": "8fef5cad-2463-4b49-a707-701eb64c3ab4",
   "metadata": {},
   "outputs": [],
   "source": []
  }
 ],
 "metadata": {
  "environment": {
   "kernel": "ir",
   "name": "r-cpu.m125",
   "type": "gcloud",
   "uri": "us-docker.pkg.dev/deeplearning-platform-release/gcr.io/r-cpu:m125"
  },
  "kernelspec": {
   "display_name": "R (Local)",
   "language": "R",
   "name": "ir"
  },
  "language_info": {
   "codemirror_mode": "r",
   "file_extension": ".r",
   "mimetype": "text/x-r-source",
   "name": "R",
   "pygments_lexer": "r",
   "version": "4.4.1"
  }
 },
 "nbformat": 4,
 "nbformat_minor": 5
}
