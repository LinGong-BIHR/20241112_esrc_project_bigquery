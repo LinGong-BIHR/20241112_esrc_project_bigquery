{
 "cells": [
  {
   "cell_type": "code",
   "execution_count": 1,
   "id": "44148a7f-ba5a-40d3-bec6-bdfe973b9cd6",
   "metadata": {
    "tags": []
   },
   "outputs": [],
   "source": [
    "library(bigrquery)\n",
    "bq_auth()\n"
   ]
  },
  {
   "cell_type": "code",
   "execution_count": 2,
   "id": "5816c41c-49ae-439f-afb5-9f53092dd873",
   "metadata": {
    "tags": []
   },
   "outputs": [
    {
     "name": "stderr",
     "output_type": "stream",
     "text": [
      "── \u001b[1mAttaching core tidyverse packages\u001b[22m ──────────────────────── tidyverse 2.0.0 ──\n",
      "\u001b[32m✔\u001b[39m \u001b[34mdplyr    \u001b[39m 1.1.4     \u001b[32m✔\u001b[39m \u001b[34mreadr    \u001b[39m 2.1.5\n",
      "\u001b[32m✔\u001b[39m \u001b[34mforcats  \u001b[39m 1.0.0     \u001b[32m✔\u001b[39m \u001b[34mstringr  \u001b[39m 1.5.1\n",
      "\u001b[32m✔\u001b[39m \u001b[34mggplot2  \u001b[39m 3.5.1     \u001b[32m✔\u001b[39m \u001b[34mtibble   \u001b[39m 3.2.1\n",
      "\u001b[32m✔\u001b[39m \u001b[34mlubridate\u001b[39m 1.9.3     \u001b[32m✔\u001b[39m \u001b[34mtidyr    \u001b[39m 1.3.1\n",
      "\u001b[32m✔\u001b[39m \u001b[34mpurrr    \u001b[39m 1.0.2     \n",
      "── \u001b[1mConflicts\u001b[22m ────────────────────────────────────────── tidyverse_conflicts() ──\n",
      "\u001b[31m✖\u001b[39m \u001b[34mdplyr\u001b[39m::\u001b[32mfilter()\u001b[39m masks \u001b[34mstats\u001b[39m::filter()\n",
      "\u001b[31m✖\u001b[39m \u001b[34mdplyr\u001b[39m::\u001b[32mlag()\u001b[39m    masks \u001b[34mstats\u001b[39m::lag()\n",
      "\u001b[36mℹ\u001b[39m Use the conflicted package (\u001b[3m\u001b[34m<http://conflicted.r-lib.org/>\u001b[39m\u001b[23m) to force all conflicts to become errors\n"
     ]
    }
   ],
   "source": [
    "rm(list=ls())\n",
    "library(bigrquery)\n",
    "library(tidyverse)\n",
    "bq_auth()\n",
    "\n",
    "project <- \"yhcr-prd-bradfor-bia-core\"\n",
    "project_id <- \"yhcr-prd-bradfor-bia-core\"\n",
    "source_dataset_pri <-'CB_FDM_PrimaryCare'\n",
    "source_dataset_pri <-gsub(' ','',source_dataset_pri)"
   ]
  },
  {
   "cell_type": "code",
   "execution_count": 3,
   "id": "a78987e2-ce74-406b-bfe9-0dc733fed1f6",
   "metadata": {
    "tags": []
   },
   "outputs": [
    {
     "name": "stdout",
     "output_type": "stream",
     "text": [
      "[1] \"CB_FDM_PrimaryCare\"\n"
     ]
    }
   ],
   "source": [
    "print (source_dataset_pri)\n",
    "target_dataset <- \"CB_1322\"\n",
    "sql_query <- \"SELECT * FROM `yhcr-prd-bradfor-bia-core.CB_1322.A_Lin_1018_cohort` \""
   ]
  },
  {
   "cell_type": "code",
   "execution_count": 4,
   "id": "5c1824ef-810e-4812-973e-c37a261e9095",
   "metadata": {
    "tags": []
   },
   "outputs": [
    {
     "ename": "ERROR",
     "evalue": "\u001b[1m\u001b[33mError\u001b[39m in `bq_post()`:\u001b[22m\n\u001b[1m\u001b[22m\u001b[33m!\u001b[39m Access Denied: Project yhcr-prd-bradfor-bia-core: User does not have\n  bigquery.jobs.create permission in project yhcr-prd-bradfor-bia-core.\n  [accessDenied]\n",
     "output_type": "error",
     "traceback": [
      "\u001b[1m\u001b[33mError\u001b[39m in `bq_post()`:\u001b[22m\n\u001b[1m\u001b[22m\u001b[33m!\u001b[39m Access Denied: Project yhcr-prd-bradfor-bia-core: User does not have\n  bigquery.jobs.create permission in project yhcr-prd-bradfor-bia-core.\n  [accessDenied]\nTraceback:\n",
      "1. bq_perform_query(query, billing = x, destination_table = destination_table, \n .     ...)",
      "2. bq_post(url, body = bq_body(body, ...), query = list(fields = \"jobReference\"))",
      "3. process_request(req)",
      "4. bq_check_response(status = status, type = type, content = content, \n .     call = call)",
      "5. gargle_abort(reason = json$error$errors[[1L]]$reason, message = json$error$message, \n .     status = status, call = call)",
      "6. cli::cli_abort(message, class = class, call = call)",
      "7. rlang::abort(message, ..., call = call, use_cli_format = TRUE, \n .     .frame = .frame)",
      "8. signal_abort(cnd, .file)",
      "9. signalCondition(cnd)"
     ]
    }
   ],
   "source": [
    "my_query <- bq_project_query(project_id, sql_query)\n",
    "table <- bq_table_download(my_query)\n",
    "write.csv(table, '20241021.csv')"
   ]
  },
  {
   "cell_type": "code",
   "execution_count": null,
   "id": "7a795f81-8978-49ea-9da5-cee0d751a343",
   "metadata": {},
   "outputs": [],
   "source": []
  }
 ],
 "metadata": {
  "environment": {
   "kernel": "ir",
   "name": "r-cpu.m125",
   "type": "gcloud",
   "uri": "us-docker.pkg.dev/deeplearning-platform-release/gcr.io/r-cpu:m125"
  },
  "kernelspec": {
   "display_name": "R (Local)",
   "language": "R",
   "name": "ir"
  },
  "language_info": {
   "codemirror_mode": "r",
   "file_extension": ".r",
   "mimetype": "text/x-r-source",
   "name": "R",
   "pygments_lexer": "r",
   "version": "4.4.1"
  }
 },
 "nbformat": 4,
 "nbformat_minor": 5
}
